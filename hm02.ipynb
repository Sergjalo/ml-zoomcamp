{
 "cells": [
  {
   "cell_type": "markdown",
   "id": "3bd45069",
   "metadata": {},
   "source": [
    "# Machine Learning Zoomcamp - Homework 02\n",
    "\n",
    "This notebook contains the homework assignment for ML Zoomcamp"
   ]
  },
  {
   "cell_type": "code",
   "execution_count": 517,
   "id": "f2a449f3",
   "metadata": {},
   "outputs": [],
   "source": [
    "import pandas as pd\n",
    "import numpy as np\n",
    "\n",
    "import seaborn as sns\n",
    "from matplotlib import pyplot as plt\n",
    "%matplotlib inline"
   ]
  },
  {
   "cell_type": "code",
   "execution_count": 518,
   "id": "78d164b7",
   "metadata": {},
   "outputs": [
    {
     "name": "stdout",
     "output_type": "stream",
     "text": [
      "Downloading car_fuel_efficiency.csv...\n",
      "✅ Download successful!\n",
      "File: car_fuel_efficiency.csv\n",
      "Size: 874188 bytes\n"
     ]
    }
   ],
   "source": [
    "import urllib.request\n",
    "import os\n",
    "\n",
    "# Download the dataset\n",
    "url = \"https://raw.githubusercontent.com/alexeygrigorev/datasets/master/car_fuel_efficiency.csv\"\n",
    "filename = \"car_fuel_efficiency.csv\"\n",
    "\n",
    "print(f\"Downloading {filename}...\")\n",
    "# urllib.request.urlretrieve(url, filename)\n",
    "\n",
    "# Verify the download\n",
    "if os.path.exists(filename):\n",
    "    file_size = os.path.getsize(filename)\n",
    "    print(f\"✅ Download successful!\")\n",
    "    print(f\"File: {filename}\")\n",
    "    print(f\"Size: {file_size} bytes\")\n",
    "else:\n",
    "    print(\"❌ Download failed!\")"
   ]
  },
  {
   "cell_type": "code",
   "execution_count": 519,
   "id": "61a98c1c",
   "metadata": {},
   "outputs": [
    {
     "data": {
      "text/plain": [
       "9704"
      ]
     },
     "execution_count": 519,
     "metadata": {},
     "output_type": "execute_result"
    }
   ],
   "source": [
    "df = pd.read_csv('car_fuel_efficiency.csv')\n",
    "len(df)"
   ]
  },
  {
   "cell_type": "code",
   "execution_count": 520,
   "id": "aef1a112",
   "metadata": {},
   "outputs": [
    {
     "data": {
      "application/vnd.microsoft.datawrangler.viewer.v0+json": {
       "columns": [
        {
         "name": "index",
         "rawType": "int64",
         "type": "integer"
        },
        {
         "name": "engine_displacement",
         "rawType": "int64",
         "type": "integer"
        },
        {
         "name": "num_cylinders",
         "rawType": "float64",
         "type": "float"
        },
        {
         "name": "horsepower",
         "rawType": "float64",
         "type": "float"
        },
        {
         "name": "vehicle_weight",
         "rawType": "float64",
         "type": "float"
        },
        {
         "name": "acceleration",
         "rawType": "float64",
         "type": "float"
        },
        {
         "name": "model_year",
         "rawType": "int64",
         "type": "integer"
        },
        {
         "name": "origin",
         "rawType": "object",
         "type": "string"
        },
        {
         "name": "fuel_type",
         "rawType": "object",
         "type": "string"
        },
        {
         "name": "drivetrain",
         "rawType": "object",
         "type": "string"
        },
        {
         "name": "num_doors",
         "rawType": "float64",
         "type": "float"
        },
        {
         "name": "fuel_efficiency_mpg",
         "rawType": "float64",
         "type": "float"
        }
       ],
       "ref": "1cd0836e-1e7f-4a42-87b0-7e54c842d84b",
       "rows": [
        [
         "0",
         "170",
         "3.0",
         "159.0",
         "3413.433758606219",
         "17.7",
         "2003",
         "Europe",
         "Gasoline",
         "All-wheel drive",
         "0.0",
         "13.231728906241411"
        ],
        [
         "1",
         "130",
         "5.0",
         "97.0",
         "3149.6649342200353",
         "17.8",
         "2007",
         "USA",
         "Gasoline",
         "Front-wheel drive",
         "0.0",
         "13.688217435463793"
        ],
        [
         "2",
         "170",
         null,
         "78.0",
         "3079.03899736884",
         "15.1",
         "2018",
         "Europe",
         "Gasoline",
         "Front-wheel drive",
         "0.0",
         "14.246340998160866"
        ],
        [
         "3",
         "220",
         "4.0",
         null,
         "2542.392401828378",
         "20.2",
         "2009",
         "USA",
         "Diesel",
         "All-wheel drive",
         "2.0",
         "16.91273559598635"
        ],
        [
         "4",
         "210",
         "1.0",
         "140.0",
         "3460.870989989018",
         "14.4",
         "2009",
         "Europe",
         "Gasoline",
         "All-wheel drive",
         "2.0",
         "12.488369121964562"
        ]
       ],
       "shape": {
        "columns": 11,
        "rows": 5
       }
      },
      "text/html": [
       "<div>\n",
       "<style scoped>\n",
       "    .dataframe tbody tr th:only-of-type {\n",
       "        vertical-align: middle;\n",
       "    }\n",
       "\n",
       "    .dataframe tbody tr th {\n",
       "        vertical-align: top;\n",
       "    }\n",
       "\n",
       "    .dataframe thead th {\n",
       "        text-align: right;\n",
       "    }\n",
       "</style>\n",
       "<table border=\"1\" class=\"dataframe\">\n",
       "  <thead>\n",
       "    <tr style=\"text-align: right;\">\n",
       "      <th></th>\n",
       "      <th>engine_displacement</th>\n",
       "      <th>num_cylinders</th>\n",
       "      <th>horsepower</th>\n",
       "      <th>vehicle_weight</th>\n",
       "      <th>acceleration</th>\n",
       "      <th>model_year</th>\n",
       "      <th>origin</th>\n",
       "      <th>fuel_type</th>\n",
       "      <th>drivetrain</th>\n",
       "      <th>num_doors</th>\n",
       "      <th>fuel_efficiency_mpg</th>\n",
       "    </tr>\n",
       "  </thead>\n",
       "  <tbody>\n",
       "    <tr>\n",
       "      <th>0</th>\n",
       "      <td>170</td>\n",
       "      <td>3.0</td>\n",
       "      <td>159.0</td>\n",
       "      <td>3413.433759</td>\n",
       "      <td>17.7</td>\n",
       "      <td>2003</td>\n",
       "      <td>Europe</td>\n",
       "      <td>Gasoline</td>\n",
       "      <td>All-wheel drive</td>\n",
       "      <td>0.0</td>\n",
       "      <td>13.231729</td>\n",
       "    </tr>\n",
       "    <tr>\n",
       "      <th>1</th>\n",
       "      <td>130</td>\n",
       "      <td>5.0</td>\n",
       "      <td>97.0</td>\n",
       "      <td>3149.664934</td>\n",
       "      <td>17.8</td>\n",
       "      <td>2007</td>\n",
       "      <td>USA</td>\n",
       "      <td>Gasoline</td>\n",
       "      <td>Front-wheel drive</td>\n",
       "      <td>0.0</td>\n",
       "      <td>13.688217</td>\n",
       "    </tr>\n",
       "    <tr>\n",
       "      <th>2</th>\n",
       "      <td>170</td>\n",
       "      <td>NaN</td>\n",
       "      <td>78.0</td>\n",
       "      <td>3079.038997</td>\n",
       "      <td>15.1</td>\n",
       "      <td>2018</td>\n",
       "      <td>Europe</td>\n",
       "      <td>Gasoline</td>\n",
       "      <td>Front-wheel drive</td>\n",
       "      <td>0.0</td>\n",
       "      <td>14.246341</td>\n",
       "    </tr>\n",
       "    <tr>\n",
       "      <th>3</th>\n",
       "      <td>220</td>\n",
       "      <td>4.0</td>\n",
       "      <td>NaN</td>\n",
       "      <td>2542.392402</td>\n",
       "      <td>20.2</td>\n",
       "      <td>2009</td>\n",
       "      <td>USA</td>\n",
       "      <td>Diesel</td>\n",
       "      <td>All-wheel drive</td>\n",
       "      <td>2.0</td>\n",
       "      <td>16.912736</td>\n",
       "    </tr>\n",
       "    <tr>\n",
       "      <th>4</th>\n",
       "      <td>210</td>\n",
       "      <td>1.0</td>\n",
       "      <td>140.0</td>\n",
       "      <td>3460.870990</td>\n",
       "      <td>14.4</td>\n",
       "      <td>2009</td>\n",
       "      <td>Europe</td>\n",
       "      <td>Gasoline</td>\n",
       "      <td>All-wheel drive</td>\n",
       "      <td>2.0</td>\n",
       "      <td>12.488369</td>\n",
       "    </tr>\n",
       "  </tbody>\n",
       "</table>\n",
       "</div>"
      ],
      "text/plain": [
       "   engine_displacement  num_cylinders  horsepower  vehicle_weight  \\\n",
       "0                  170            3.0       159.0     3413.433759   \n",
       "1                  130            5.0        97.0     3149.664934   \n",
       "2                  170            NaN        78.0     3079.038997   \n",
       "3                  220            4.0         NaN     2542.392402   \n",
       "4                  210            1.0       140.0     3460.870990   \n",
       "\n",
       "   acceleration  model_year  origin fuel_type         drivetrain  num_doors  \\\n",
       "0          17.7        2003  Europe  Gasoline    All-wheel drive        0.0   \n",
       "1          17.8        2007     USA  Gasoline  Front-wheel drive        0.0   \n",
       "2          15.1        2018  Europe  Gasoline  Front-wheel drive        0.0   \n",
       "3          20.2        2009     USA    Diesel    All-wheel drive        2.0   \n",
       "4          14.4        2009  Europe  Gasoline    All-wheel drive        2.0   \n",
       "\n",
       "   fuel_efficiency_mpg  \n",
       "0            13.231729  \n",
       "1            13.688217  \n",
       "2            14.246341  \n",
       "3            16.912736  \n",
       "4            12.488369  "
      ]
     },
     "execution_count": 520,
     "metadata": {},
     "output_type": "execute_result"
    }
   ],
   "source": [
    "# Load the dataset\n",
    "df = pd.read_csv(filename)\n",
    "df.head()"
   ]
  },
  {
   "cell_type": "markdown",
   "id": "e328f6aa",
   "metadata": {},
   "source": [
    "# question 1\n",
    "\n",
    "There's one column with missing values. What is it?\n",
    "'engine_displacement'\n",
    "'horsepower'\n",
    "'vehicle_weight'\n",
    "'model_year'\n",
    "\n",
    "answer - horsepower"
   ]
  },
  {
   "cell_type": "code",
   "execution_count": 521,
   "id": "beb47a95",
   "metadata": {},
   "outputs": [
    {
     "name": "stdout",
     "output_type": "stream",
     "text": [
      "Missing Values:\n",
      "Combined Data Analysis:\n",
      "============================================================\n",
      "                     missing_values  total_values  non_missing  \\\n",
      "fuel_efficiency_mpg               0          9704         9704   \n",
      "engine_displacement               0          9704         9704   \n",
      "horsepower                      708          9704         8996   \n",
      "vehicle_weight                    0          9704         9704   \n",
      "model_year                        0          9704         9704   \n",
      "\n",
      "                     missing_percentage data_type  \n",
      "fuel_efficiency_mpg                 0.0   float64  \n",
      "engine_displacement                 0.0     int64  \n",
      "horsepower                          7.3   float64  \n",
      "vehicle_weight                      0.0   float64  \n",
      "model_year                          0.0     int64  \n"
     ]
    }
   ],
   "source": [
    "# Basic data exploration\n",
    "print(\"Missing Values:\")\n",
    "# ...existing code...\n",
    "\n",
    "# Basic data exploration - Combined stats\n",
    "selected_columns = ['fuel_efficiency_mpg', 'engine_displacement', 'horsepower', 'vehicle_weight', 'model_year']\n",
    "\n",
    "# Create combined DataFrame with missing values and data types\n",
    "combined_stats = pd.DataFrame({\n",
    "    'missing_values': df[selected_columns].isnull().sum(),\n",
    "    'total_values': len(df),\n",
    "    'non_missing': df[selected_columns].count(),\n",
    "    'missing_percentage': (df[selected_columns].isnull().sum() / len(df) * 100).round(2),\n",
    "    'data_type': df[selected_columns].dtypes\n",
    "})\n",
    "\n",
    "print(\"Combined Data Analysis:\")\n",
    "print(\"=\" * 60)\n",
    "print(combined_stats)"
   ]
  },
  {
   "cell_type": "markdown",
   "id": "ca41d3f2",
   "metadata": {},
   "source": [
    "# Question 2\n",
    "\n",
    "What's the median (50% percentile) for variable 'horsepower'?\n",
    "\n",
    "answer = 149"
   ]
  },
  {
   "cell_type": "code",
   "execution_count": 522,
   "id": "dbef9571",
   "metadata": {},
   "outputs": [
    {
     "name": "stdout",
     "output_type": "stream",
     "text": [
      "Median horsepower: 149.0\n"
     ]
    }
   ],
   "source": [
    "median_horsepower = df['horsepower'].median()\n",
    "print(f\"Median horsepower: {median_horsepower}\")"
   ]
  },
  {
   "cell_type": "markdown",
   "id": "82e8519e",
   "metadata": {},
   "source": [
    "# Prepare and split the dataset\n",
    "\n",
    "Shuffle the dataset (the filtered one you created above), use seed 42.\n",
    "Split your data in train/val/test sets, with \n",
    "`60%/20%/20%` distribution.\n",
    "Use the same code as in the lectures"
   ]
  },
  {
   "cell_type": "code",
   "execution_count": 523,
   "id": "4b45c75f",
   "metadata": {},
   "outputs": [
    {
     "name": "stdout",
     "output_type": "stream",
     "text": [
      "Filtered dataset shape: (9704, 5)\n"
     ]
    },
    {
     "data": {
      "application/vnd.microsoft.datawrangler.viewer.v0+json": {
       "columns": [
        {
         "name": "index",
         "rawType": "int64",
         "type": "integer"
        },
        {
         "name": "engine_displacement",
         "rawType": "int64",
         "type": "integer"
        },
        {
         "name": "horsepower",
         "rawType": "float64",
         "type": "float"
        },
        {
         "name": "vehicle_weight",
         "rawType": "float64",
         "type": "float"
        },
        {
         "name": "age",
         "rawType": "int64",
         "type": "integer"
        },
        {
         "name": "fuel_efficiency_mpg",
         "rawType": "float64",
         "type": "float"
        }
       ],
       "ref": "de52f71d-29f7-4b60-9a2e-6e14d679a43f",
       "rows": [
        [
         "0",
         "170",
         "159.0",
         "3413.433758606219",
         "20",
         "13.231728906241411"
        ],
        [
         "1",
         "130",
         "97.0",
         "3149.6649342200353",
         "16",
         "13.688217435463793"
        ],
        [
         "2",
         "170",
         "78.0",
         "3079.03899736884",
         "5",
         "14.246340998160866"
        ],
        [
         "3",
         "220",
         null,
         "2542.392401828378",
         "14",
         "16.91273559598635"
        ],
        [
         "4",
         "210",
         "140.0",
         "3460.870989989018",
         "14",
         "12.488369121964562"
        ]
       ],
       "shape": {
        "columns": 5,
        "rows": 5
       }
      },
      "text/html": [
       "<div>\n",
       "<style scoped>\n",
       "    .dataframe tbody tr th:only-of-type {\n",
       "        vertical-align: middle;\n",
       "    }\n",
       "\n",
       "    .dataframe tbody tr th {\n",
       "        vertical-align: top;\n",
       "    }\n",
       "\n",
       "    .dataframe thead th {\n",
       "        text-align: right;\n",
       "    }\n",
       "</style>\n",
       "<table border=\"1\" class=\"dataframe\">\n",
       "  <thead>\n",
       "    <tr style=\"text-align: right;\">\n",
       "      <th></th>\n",
       "      <th>engine_displacement</th>\n",
       "      <th>horsepower</th>\n",
       "      <th>vehicle_weight</th>\n",
       "      <th>age</th>\n",
       "      <th>fuel_efficiency_mpg</th>\n",
       "    </tr>\n",
       "  </thead>\n",
       "  <tbody>\n",
       "    <tr>\n",
       "      <th>0</th>\n",
       "      <td>170</td>\n",
       "      <td>159.0</td>\n",
       "      <td>3413.433759</td>\n",
       "      <td>20</td>\n",
       "      <td>13.231729</td>\n",
       "    </tr>\n",
       "    <tr>\n",
       "      <th>1</th>\n",
       "      <td>130</td>\n",
       "      <td>97.0</td>\n",
       "      <td>3149.664934</td>\n",
       "      <td>16</td>\n",
       "      <td>13.688217</td>\n",
       "    </tr>\n",
       "    <tr>\n",
       "      <th>2</th>\n",
       "      <td>170</td>\n",
       "      <td>78.0</td>\n",
       "      <td>3079.038997</td>\n",
       "      <td>5</td>\n",
       "      <td>14.246341</td>\n",
       "    </tr>\n",
       "    <tr>\n",
       "      <th>3</th>\n",
       "      <td>220</td>\n",
       "      <td>NaN</td>\n",
       "      <td>2542.392402</td>\n",
       "      <td>14</td>\n",
       "      <td>16.912736</td>\n",
       "    </tr>\n",
       "    <tr>\n",
       "      <th>4</th>\n",
       "      <td>210</td>\n",
       "      <td>140.0</td>\n",
       "      <td>3460.870990</td>\n",
       "      <td>14</td>\n",
       "      <td>12.488369</td>\n",
       "    </tr>\n",
       "  </tbody>\n",
       "</table>\n",
       "</div>"
      ],
      "text/plain": [
       "   engine_displacement  horsepower  vehicle_weight  age  fuel_efficiency_mpg\n",
       "0                  170       159.0     3413.433759   20            13.231729\n",
       "1                  130        97.0     3149.664934   16            13.688217\n",
       "2                  170        78.0     3079.038997    5            14.246341\n",
       "3                  220         NaN     2542.392402   14            16.912736\n",
       "4                  210       140.0     3460.870990   14            12.488369"
      ]
     },
     "execution_count": 523,
     "metadata": {},
     "output_type": "execute_result"
    }
   ],
   "source": [
    "max_year = df['model_year'].max()\n",
    "features_all_df = df[['engine_displacement', 'horsepower', 'vehicle_weight', 'model_year', 'fuel_efficiency_mpg']].copy()\n",
    "features_all_df['age'] = max_year - features_all_df['model_year']\n",
    "# features_all_df['engine_displacement_norm'] = (features_all_df['engine_displacement'] - features_all_df['engine_displacement'].mean()) / features_all_df['engine_displacement'].std()\n",
    "# features_df = features_all_df[['engine_displacement_norm', 'horsepower', 'vehicle_weight', 'age','fuel_efficiency_mpg']].copy()\n",
    "features_df = features_all_df[['engine_displacement', 'horsepower', 'vehicle_weight', 'age','fuel_efficiency_mpg']].copy()\n",
    "print(f\"Filtered dataset shape: {features_df.shape}\")\n",
    "features_df.head()"
   ]
  },
  {
   "cell_type": "code",
   "execution_count": 524,
   "id": "ff3e0ab4",
   "metadata": {},
   "outputs": [
    {
     "name": "stdout",
     "output_type": "stream",
     "text": [
      "5824 1940 1940\n"
     ]
    }
   ],
   "source": [
    "np.random.seed(42)\n",
    "\n",
    "n = len(features_df)\n",
    "\n",
    "n_val = int(0.2 * n)\n",
    "n_test = int(0.2 * n)\n",
    "n_train = n - (n_val + n_test)\n",
    "\n",
    "idx = np.arange(n)\n",
    "np.random.shuffle(idx)\n",
    "\n",
    "df_shuffled = features_df.iloc[idx]\n",
    "\n",
    "df_train = df_shuffled.iloc[:n_train].copy()\n",
    "df_val = df_shuffled.iloc[n_train:n_train+n_val].copy()\n",
    "df_test = df_shuffled.iloc[n_train+n_val:].copy()\n",
    "print(len(df_train), len(df_val), len(df_test))"
   ]
  },
  {
   "cell_type": "code",
   "execution_count": 525,
   "id": "177959df",
   "metadata": {},
   "outputs": [
    {
     "name": "stdout",
     "output_type": "stream",
     "text": [
      "5824 1940 1940\n"
     ]
    }
   ],
   "source": [
    "y_train_orig = df_train.fuel_efficiency_mpg.values\n",
    "y_val_orig = df_val.fuel_efficiency_mpg.values\n",
    "y_test_orig = df_test.fuel_efficiency_mpg.values\n",
    "\n",
    "y_train = np.log1p(df_train.fuel_efficiency_mpg.values)\n",
    "y_val = np.log1p(df_val.fuel_efficiency_mpg.values)\n",
    "y_test = np.log1p(df_test.fuel_efficiency_mpg.values)\n",
    "\n",
    "del df_train['fuel_efficiency_mpg']\n",
    "del df_val['fuel_efficiency_mpg']\n",
    "del df_test['fuel_efficiency_mpg']\n",
    "print(len(y_train), len(y_val), len(y_test))\n"
   ]
  },
  {
   "cell_type": "markdown",
   "id": "b85a4569",
   "metadata": {},
   "source": [
    "# Question 3\n",
    "\n",
    "We need to deal with missing values for the column from Q1.\n",
    "We have two options: fill it with 0 or with the mean of this variable.\n",
    "Try both options. For each, train a linear regression model without regularization using the code from the lessons.\n",
    "For computing the mean, use the training only!\n",
    "Use the validation dataset to evaluate the models and compare the RMSE of each option.\n",
    "Round the RMSE scores to 2 decimal digits using round(score, 2)\n",
    "Which option gives better RMSE?\n",
    "\n",
    "ANSWER: Both are equally good if round to 2 decimal digits\n",
    "\n",
    "replaced with mean is better if round to 4."
   ]
  },
  {
   "cell_type": "code",
   "execution_count": 526,
   "id": "6154c330",
   "metadata": {},
   "outputs": [
    {
     "name": "stdout",
     "output_type": "stream",
     "text": [
      "Mean horsepower from training set: 149.54476367006487\n"
     ]
    }
   ],
   "source": [
    "mean_horsepower = df_train['horsepower'].mean()\n",
    "print(f\"Mean horsepower from training set: {mean_horsepower}\")"
   ]
  },
  {
   "cell_type": "markdown",
   "id": "5b2c3a52",
   "metadata": {},
   "source": [
    "## def train_linear_regression and prepare_X"
   ]
  },
  {
   "cell_type": "code",
   "execution_count": 527,
   "id": "84373b67",
   "metadata": {},
   "outputs": [],
   "source": [
    "def train_linear_regression(X, y):\n",
    "    ones = np.ones(X.shape[0])\n",
    "    X = np.column_stack([ones, X])\n",
    "\n",
    "    XTX = X.T.dot(X)\n",
    "    XTX_inv = np.linalg.inv(XTX)\n",
    "    w = XTX_inv.dot(X.T).dot(y)\n",
    "    \n",
    "    return w[0], w[1:]"
   ]
  },
  {
   "cell_type": "code",
   "execution_count": 528,
   "id": "d25a702b",
   "metadata": {},
   "outputs": [],
   "source": [
    "def prepare_X(df_, fill_value=0):\n",
    "    # df_num = df_[['engine_displacement', 'horsepower', 'vehicle_weight', 'model_year','age']]\n",
    "    df_num = df_\n",
    "    df_num = df_num.fillna(fill_value)\n",
    "    X = df_num.values\n",
    "    return X"
   ]
  },
  {
   "cell_type": "code",
   "execution_count": 529,
   "id": "133c2986",
   "metadata": {},
   "outputs": [
    {
     "name": "stdout",
     "output_type": "stream",
     "text": [
      "3.6979796419379856 [ 2.14827083e-06  2.21209296e-04 -3.23460699e-04 -1.64673231e-05]\n",
      "3.6276735153278103 [ 3.63140955e-06  6.65758686e-04 -3.23242585e-04  2.14173526e-05]\n"
     ]
    }
   ],
   "source": [
    "missing_hp_mask = df_train['horsepower'].isnull()\n",
    "X_train = prepare_X(df_train) \n",
    "# print(X_train[missing_hp_mask]) # check what values are used for missing horsepower (0)\n",
    "X_train_mean = prepare_X(df_train, mean_horsepower) \n",
    "# print(X_train_mean[missing_hp_mask]) # check what values are used for missing horsepower (mean)\n",
    "\n",
    "# df_train is based on features_df that has only feature cols\n",
    "# and target fuel_efficiency_mpg is deleted from train\n",
    "w_0, w = train_linear_regression(X_train, y_train)\n",
    "w_0_mean, w_mean = train_linear_regression(X_train_mean, y_train)\n",
    "print(w_0, w)\n",
    "print(w_0_mean, w_mean)"
   ]
  },
  {
   "cell_type": "code",
   "execution_count": 530,
   "id": "2c7d7b3f",
   "metadata": {},
   "outputs": [],
   "source": [
    "y_pred = w_0 + X_train.dot(w)\n",
    "y_pred_mean = w_0_mean + X_train_mean.dot(w_mean)"
   ]
  },
  {
   "cell_type": "code",
   "execution_count": 531,
   "id": "fa50e677",
   "metadata": {},
   "outputs": [
    {
     "data": {
      "text/plain": [
       "Text(0.5, 1.0, 'Predictions vs actual distribution')"
      ]
     },
     "execution_count": 531,
     "metadata": {},
     "output_type": "execute_result"
    },
    {
     "data": {
      "image/png": "[encoded data removed]",
      "text/plain": [
       "<Figure size 600x400 with 1 Axes>"
      ]
     },
     "metadata": {},
     "output_type": "display_data"
    }
   ],
   "source": [
    "plt.figure(figsize=(6, 4))\n",
    "\n",
    "sns.histplot(y_train, label='target', color='red', alpha=0.4, bins=40)\n",
    "sns.histplot(y_pred, label='prediction', color='blue', alpha=0.4, bins=40)\n",
    "\n",
    "plt.legend()\n",
    "\n",
    "plt.ylabel('Frequency')\n",
    "plt.xlabel('Log(Price + 1)')\n",
    "plt.title('Predictions vs actual distribution')"
   ]
  },
  {
   "cell_type": "code",
   "execution_count": 532,
   "id": "5fc82c61",
   "metadata": {},
   "outputs": [
    {
     "data": {
      "text/plain": [
       "Text(0.5, 1.0, 'Predictions vs actual distribution (using mean for missing horsepower)')"
      ]
     },
     "execution_count": 532,
     "metadata": {},
     "output_type": "execute_result"
    },
    {
     "data": {
      "image/png": "[encoded data removed]",
      "text/plain": [
       "<Figure size 640x480 with 1 Axes>"
      ]
     },
     "metadata": {},
     "output_type": "display_data"
    }
   ],
   "source": [
    "# plt.figure(figsize=(6, 4))\n",
    "\n",
    "sns.histplot(y_train, label='target', color='#222222', alpha=0.6, bins=40)\n",
    "sns.histplot(y_pred_mean, label='prediction', color='#aaaaaa', alpha=0.8, bins=40)\n",
    "\n",
    "# plt.legend()\n",
    "\n",
    "plt.ylabel('Frequency')\n",
    "plt.xlabel('Log(Price + 1)')\n",
    "plt.title('Predictions vs actual distribution (using mean for missing horsepower)')"
   ]
  },
  {
   "cell_type": "markdown",
   "id": "a1ad5065",
   "metadata": {},
   "source": [
    "## def RMSE"
   ]
  },
  {
   "cell_type": "code",
   "execution_count": 533,
   "id": "aa273201",
   "metadata": {},
   "outputs": [],
   "source": [
    "def rmse(y, y_pred):\n",
    "    error = y_pred - y\n",
    "    mse = (error ** 2).mean()\n",
    "    return np.sqrt(mse)"
   ]
  },
  {
   "cell_type": "code",
   "execution_count": 534,
   "id": "6ffc0b75",
   "metadata": {},
   "outputs": [],
   "source": [
    "# score of how far are y_pred from y_train\n",
    "score_train = round(rmse(y_train, y_pred), 4)\n",
    "score_train_mean = round(rmse(y_train, y_pred_mean), 4)"
   ]
  },
  {
   "cell_type": "code",
   "execution_count": 535,
   "id": "5af9a533",
   "metadata": {},
   "outputs": [],
   "source": [
    "X_val = prepare_X(df_val)\n",
    "X_val_mean = prepare_X(df_val, mean_horsepower)\n",
    "y_pred_val = w_0 + X_val.dot(w)\n",
    "y_pred_mean_val = w_0_mean + X_val_mean.dot(w_mean)\n",
    "score_validation = round(rmse(y_val, y_pred_val), 4)\n",
    "score_validation_mean = round(rmse(y_val, y_pred_mean_val), 4)"
   ]
  },
  {
   "cell_type": "code",
   "execution_count": 536,
   "id": "1dd6dd14",
   "metadata": {},
   "outputs": [
    {
     "name": "stdout",
     "output_type": "stream",
     "text": [
      "RMSE on training set: 0.0391 (using 0 for missing horsepower)\n",
      "RMSE on training set: 0.0358 (using mean for missing horsepower) \n",
      "RMSE on validation set: 0.04 (using 0 for missing horsepower) \n",
      "RMSE on validation set: 0.0373 (using mean for missing horsepower) \n"
     ]
    }
   ],
   "source": [
    "print(f\"RMSE on training set: {score_train} (using 0 for missing horsepower)\")\n",
    "print(f\"RMSE on training set: {score_train_mean} (using mean for missing horsepower) \")\n",
    "print(f\"RMSE on validation set: {score_validation} (using 0 for missing horsepower) \")\n",
    "print(f\"RMSE on validation set: {score_validation_mean} (using mean for missing horsepower) \")"
   ]
  },
  {
   "cell_type": "code",
   "execution_count": 537,
   "id": "bb3ee1ea",
   "metadata": {},
   "outputs": [
    {
     "name": "stdout",
     "output_type": "stream",
     "text": [
      "RMSE on training set: 0.04 (using 0 for missing horsepower)\n",
      "RMSE on training set: 0.04 (using mean for missing horsepower) \n",
      "RMSE on validation set: 0.04 (using 0 for missing horsepower) \n",
      "RMSE on validation set: 0.04 (using mean for missing horsepower) \n"
     ]
    }
   ],
   "source": [
    "print(f\"RMSE on training set: {round(score_train,2)} (using 0 for missing horsepower)\")\n",
    "print(f\"RMSE on training set: {round(score_train_mean,2)} (using mean for missing horsepower) \")\n",
    "print(f\"RMSE on validation set: {round(score_validation,2)} (using 0 for missing horsepower) \")\n",
    "print(f\"RMSE on validation set: {round(score_validation_mean,2)} (using mean for missing horsepower) \")"
   ]
  },
  {
   "cell_type": "markdown",
   "id": "ab535372",
   "metadata": {},
   "source": [
    "# Question 4\n",
    "\n",
    "Now let's train a regularized linear regression.\n",
    "\n",
    "For this question, fill the NAs with 0.\n",
    "\n",
    "Try different values of `r` from this list: `[0, 0.01, 0.1, 1, 5, 10, 100]`.\n",
    "Use `RMSE` to evaluate the model on the validation dataset.\n",
    "\n",
    "Round the `RMSE` scores to `2` decimal digits.\n",
    "\n",
    "Which `r` gives the best `RMSE`?\n",
    "\n",
    "If multiple options give the same best RMSE, select the smallest r\n",
    "\n",
    "ANSWER: 0"
   ]
  },
  {
   "cell_type": "code",
   "execution_count": 538,
   "id": "683a6571",
   "metadata": {},
   "outputs": [],
   "source": [
    "def train_linear_regression_reg(X, y, r=0.0):\n",
    "    ones = np.ones(X.shape[0])\n",
    "    X = np.column_stack([ones, X])\n",
    "\n",
    "    XTX = X.T.dot(X)\n",
    "    reg = r * np.eye(XTX.shape[0])\n",
    "    XTX = XTX + reg\n",
    "\n",
    "    XTX_inv = np.linalg.inv(XTX)\n",
    "    w = XTX_inv.dot(X.T).dot(y)\n",
    "    \n",
    "    return w[0], w[1:]"
   ]
  },
  {
   "cell_type": "code",
   "execution_count": 539,
   "id": "14e40d15",
   "metadata": {},
   "outputs": [
    {
     "name": "stdout",
     "output_type": "stream",
     "text": [
      "0 train 0.0391 val 0.04 diff 0.0009\n",
      "0.01 train 0.0391 val 0.04 diff 0.0009\n",
      "0.1 train 0.0391 val 0.04 diff 0.0009\n",
      "1 train 0.0394 val 0.0402 diff 0.0008\n",
      "5 train 0.0461 val 0.0467 diff 0.0006\n",
      "10 train 0.0606 val 0.0616 diff 0.001\n",
      "100 train 0.245 val 0.2524 diff 0.0074\n"
     ]
    }
   ],
   "source": [
    "X_train = prepare_X(df_train)\n",
    "X_val = prepare_X(df_val)\n",
    "for r in [0, 0.01, 0.1, 1, 5, 10, 100]:\n",
    "    w_0, w = train_linear_regression_reg(X_train, y_train, r=r)\n",
    "    # print(w_0, w)\n",
    "    y_pred_train = w_0 + X_train.dot(w)\n",
    "    y_pred_val = w_0 + X_val.dot(w)\n",
    "    score_train = round(rmse(y_train, y_pred_train), 4)\n",
    "    score_val = round(rmse(y_val, y_pred_val), 4)\n",
    "    print(r, 'train', score_train, 'val', score_val, 'diff', round(score_val - score_train, 4))\n"
   ]
  },
  {
   "cell_type": "code",
   "execution_count": 540,
   "id": "2c0d1563",
   "metadata": {},
   "outputs": [
    {
     "name": "stdout",
     "output_type": "stream",
     "text": [
      "0 train 0.04 val 0.04 diff 0.0\n",
      "0.01 train 0.04 val 0.04 diff 0.0\n",
      "0.1 train 0.04 val 0.04 diff 0.0\n",
      "1 train 0.04 val 0.04 diff 0.0\n",
      "5 train 0.05 val 0.05 diff 0.0\n",
      "10 train 0.06 val 0.06 diff 0.0\n",
      "100 train 0.24 val 0.25 diff 0.01\n"
     ]
    }
   ],
   "source": [
    "X_train = prepare_X(df_train)\n",
    "X_val = prepare_X(df_val)\n",
    "for r in [0, 0.01, 0.1, 1, 5, 10, 100]:\n",
    "    w_0, w = train_linear_regression_reg(X_train, y_train, r=r)\n",
    "    # print(w_0, w)\n",
    "    y_pred_train = w_0 + X_train.dot(w)\n",
    "    y_pred_val = w_0 + X_val.dot(w)\n",
    "    score_train = round(rmse(y_train, y_pred_train), 2)\n",
    "    score_val = round(rmse(y_val, y_pred_val), 2)\n",
    "    print(r, 'train', score_train, 'val', score_val, 'diff', round(score_val - score_train, 2))"
   ]
  },
  {
   "cell_type": "markdown",
   "id": "a660ae18",
   "metadata": {},
   "source": [
    "# Question 5\n",
    "\n",
    "We used seed 42 for splitting the data. Let's find out how selecting the seed influences our score.\n",
    "\n",
    "Try different seed values: [0, 1, 2, 3, 4, 5, 6, 7, 8, 9].\n",
    "\n",
    "For each seed, do the train/validation/test split with 60%/20%/20% distribution.\n",
    "\n",
    "Fill the missing values with 0 and train a model without regularization.\n",
    "\n",
    "For each seed, evaluate the model on the validation dataset and collect the RMSE scores.\n",
    "\n",
    "What's the standard deviation of all the scores? To compute the standard deviation, use np.std.\n",
    "\n",
    "Round the result to 3 decimal digits (round(std, 3))\n",
    "\n",
    "ANSWER: Standard deviation = 0.001"
   ]
  },
  {
   "cell_type": "markdown",
   "id": "1433070e",
   "metadata": {},
   "source": [
    "## prepare datasets by SEED, split on 3 types"
   ]
  },
  {
   "cell_type": "code",
   "execution_count": null,
   "id": "45c71ebf",
   "metadata": {},
   "outputs": [],
   "source": [
    "def prepare_dfs(seed):\n",
    "    np.random.seed(seed)\n",
    "\n",
    "    n = len(features_df)\n",
    "\n",
    "    n_val = int(0.2 * n)\n",
    "    n_test = int(0.2 * n)\n",
    "    n_train = n - (n_val + n_test)\n",
    "\n",
    "    idx = np.arange(n)\n",
    "    np.random.shuffle(idx)\n",
    "\n",
    "    df_shuffled = features_df.iloc[idx]\n",
    "\n",
    "    df_train = df_shuffled.iloc[:n_train].copy()\n",
    "    df_val = df_shuffled.iloc[n_train:n_train+n_val].copy()\n",
    "    df_test = df_shuffled.iloc[n_train+n_val:].copy()\n",
    "    # print(len(df_train), len(df_val), len(df_test))\n",
    "\n",
    "    y_train = np.log1p(df_train.fuel_efficiency_mpg.values)\n",
    "    y_val = np.log1p(df_val.fuel_efficiency_mpg.values)\n",
    "    y_test = np.log1p(df_test.fuel_efficiency_mpg.values)\n",
    "\n",
    "    del df_train['fuel_efficiency_mpg']\n",
    "    del df_val['fuel_efficiency_mpg']\n",
    "    del df_test['fuel_efficiency_mpg']\n",
    "    result = (df_train, df_val, df_test, y_train, y_val, y_test)\n",
    "    return result\n",
    "\n",
    "def prepare_matrix(df, y):\n",
    "    X = prepare_X(df)\n",
    "    w_0, w = train_linear_regression(X, y)\n",
    "    y_pred = w_0 + X.dot(w)\n",
    "    score = round(rmse(y, y_pred), 4)\n",
    "    return score, y_pred, X"
   ]
  },
  {
   "cell_type": "code",
   "execution_count": 542,
   "id": "a35c0e96",
   "metadata": {},
   "outputs": [
    {
     "name": "stdout",
     "output_type": "stream",
     "text": [
      "0.0391 0.0399\n"
     ]
    }
   ],
   "source": [
    "df_train, df_val, df_test, y_train, y_val, y_test = prepare_dfs(42)\n",
    "score_train, y_train_pred, X_train = prepare_matrix(df_train, y_train)\n",
    "score_val, y_val_pred, X_val = prepare_matrix(df_val, y_val)\n",
    "print(score_train, score_val)"
   ]
  },
  {
   "cell_type": "code",
   "execution_count": 543,
   "id": "eb70f2f4",
   "metadata": {},
   "outputs": [
    {
     "name": "stdout",
     "output_type": "stream",
     "text": [
      "0 0.0391 0.038\n",
      "1 0.0389 0.0392\n",
      "2 0.039 0.0394\n",
      "3 0.0392 0.0386\n",
      "4 0.0392 0.0371\n",
      "5 0.0388 0.0393\n",
      "6 0.0388 0.0389\n",
      "7 0.0394 0.0382\n",
      "8 0.0392 0.0401\n",
      "9 0.0391 0.0386\n",
      "\n",
      "Validation scores: [np.float64(0.038), np.float64(0.0392), np.float64(0.0394), np.float64(0.0386), np.float64(0.0371), np.float64(0.0393), np.float64(0.0389), np.float64(0.0382), np.float64(0.0401), np.float64(0.0386)]\n",
      "Standard deviation: 0.001\n"
     ]
    }
   ],
   "source": [
    "validation_scores = []\n",
    "for seed in [0, 1, 2, 3, 4, 5, 6, 7, 8, 9]:\n",
    "    df_train, df_val, df_test, y_train, y_val, y_test = prepare_dfs(seed)\n",
    "    score_train, y_train_pred, X_train = prepare_matrix(df_train, y_train)\n",
    "    score_val, y_val_pred, X_val = prepare_matrix(df_val, y_val)\n",
    "    validation_scores.append(score_val)\n",
    "    print(seed, score_train, score_val)\n",
    "std_validation = np.std(validation_scores)\n",
    "print(f\"\\nValidation scores: {validation_scores}\")\n",
    "print(f\"Standard deviation: {round(std_validation, 3)}\")"
   ]
  },
  {
   "cell_type": "markdown",
   "id": "630bd7d6",
   "metadata": {},
   "source": [
    "# Question 6\n",
    "\n",
    "Split the dataset like previously, use seed 9.\n",
    "\n",
    "Combine train and validation datasets.\n",
    "\n",
    "Fill the missing values with 0 and train a model with r=0.001.\n",
    "\n",
    "What's the RMSE on the test dataset?\n",
    "\n",
    "\n",
    "ANSWER: RMSE on test dataset = 0.04 ... no such option..."
   ]
  },
  {
   "cell_type": "code",
   "execution_count": 545,
   "id": "57a37af5",
   "metadata": {},
   "outputs": [
    {
     "name": "stdout",
     "output_type": "stream",
     "text": [
      "Original train size: 5824, val size: 1940\n",
      "Combined train size: 7764\n",
      "Original y_train size: 5824, y_val size: 1940\n",
      "Combined y_train_full size: 7764\n",
      "RMSE on test dataset: 0.039194\n"
     ]
    }
   ],
   "source": [
    "df_train, df_val, df_test, y_train, y_val, y_test = prepare_dfs(9)\n",
    "\n",
    "# Combine train and validation datasets\n",
    "df_train_full = pd.concat([df_train, df_val], ignore_index=True)\n",
    "\n",
    "# Combine train and validation target vectors\n",
    "y_train_full = np.concatenate([y_train, y_val])\n",
    "\n",
    "print(f\"Original train size: {len(df_train)}, val size: {len(df_val)}\")\n",
    "print(f\"Combined train size: {len(df_train_full)}\")\n",
    "print(f\"Original y_train size: {len(y_train)}, y_val size: {len(y_val)}\")\n",
    "print(f\"Combined y_train_full size: {len(y_train_full)}\")\n",
    "\n",
    "# Train the model with regularization on the combined dataset\n",
    "X_train_full = prepare_X(df_train_full)  # Fill missing values with 0\n",
    "X_test = prepare_X(df_test)\n",
    "\n",
    "# Train with r=0.001\n",
    "# w_0, w = train_linear_regression(X_train_full, y_train_full)\n",
    "w_0, w = train_linear_regression_reg(X_train_full, y_train_full, r=0.001)\n",
    "\n",
    "# Predict on test set\n",
    "y_pred_test = w_0 + X_test.dot(w)\n",
    "score_test = round(rmse(y_test, y_pred_test), 6)\n",
    "\n",
    "print(f\"RMSE on test dataset: {score_test}\")"
   ]
  },
  {
   "cell_type": "markdown",
   "id": "efa1612c",
   "metadata": {},
   "source": [
    "# use for some test example"
   ]
  },
  {
   "cell_type": "code",
   "execution_count": 552,
   "id": "a627e0a2",
   "metadata": {},
   "outputs": [
    {
     "data": {
      "text/plain": [
       "(np.float64(11.83102773294676),\n",
       " np.float64(11.48950438986966),\n",
       " {'engine_displacement': 270.0,\n",
       "  'horsepower': 176.0,\n",
       "  'vehicle_weight': 3751.005987014248,\n",
       "  'age': 6.0})"
      ]
     },
     "execution_count": 552,
     "metadata": {},
     "output_type": "execute_result"
    }
   ],
   "source": [
    "i = 2\n",
    "ad = df_test.iloc[i].to_dict()\n",
    "np.expm1(y_test[i]), np.expm1(y_pred_test[i]), ad"
   ]
  },
  {
   "cell_type": "code",
   "execution_count": 551,
   "id": "5fc0f692",
   "metadata": {},
   "outputs": [
    {
     "name": "stdout",
     "output_type": "stream",
     "text": [
      "Matching rows:\n",
      "      engine_displacement  num_cylinders  horsepower  vehicle_weight  \\\n",
      "1193                  270            4.0       176.0     3751.005987   \n",
      "\n",
      "      acceleration  model_year  origin fuel_type         drivetrain  \\\n",
      "1193          14.7        2017  Europe  Gasoline  Front-wheel drive   \n",
      "\n",
      "      num_doors  fuel_efficiency_mpg  \n",
      "1193       -1.0            11.831028  \n"
     ]
    }
   ],
   "source": [
    "condition = (\n",
    "    (df['engine_displacement'] == 270.0) & \n",
    "    (df['horsepower'] == 176.0) & \n",
    "    (df['vehicle_weight'] == 3751.005987014248)\n",
    ")\n",
    "\n",
    "matching_rows = df[condition]\n",
    "print(\"Matching rows:\")\n",
    "print(matching_rows)"
   ]
  }
 ],
 "metadata": {
  "kernelspec": {
   "display_name": ".venv (3.13.5)",
   "language": "python",
   "name": "python3"
  },
  "language_info": {
   "codemirror_mode": {
    "name": "ipython",
    "version": 3
   },
   "file_extension": ".py",
   "mimetype": "text/x-python",
   "name": "python",
   "nbconvert_exporter": "python",
   "pygments_lexer": "ipython3",
   "version": "3.13.5"
  }
 },
 "nbformat": 4,
 "nbformat_minor": 5
}
