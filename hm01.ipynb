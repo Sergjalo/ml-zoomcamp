{
 "cells": [
  {
   "cell_type": "markdown",
   "id": "3bd45069",
   "metadata": {},
   "source": [
    "# Machine Learning Zoomcamp - Homework 01\n",
    "\n",
    "This notebook contains the homework assignment for ML Zoomcamp covering data analysis and machine learning workflow."
   ]
  },
  {
   "cell_type": "markdown",
   "id": "5fbf4da8",
   "metadata": {},
   "source": [
    "## 1. Import Required Libraries\n",
    "\n",
    "Import necessary libraries including pandas, numpy, matplotlib, seaborn, and scikit-learn."
   ]
  },
  {
   "cell_type": "code",
   "execution_count": 1,
   "id": "f2a449f3",
   "metadata": {},
   "outputs": [],
   "source": [
    "# Import necessary libraries\n",
    "import pandas as pd\n",
    "import numpy as np\n",
    "import matplotlib.pyplot as plt\n",
    "import seaborn as sns\n",
    "\n",
    "# Set display options\n",
    "pd.set_option('display.max_columns', None)\n",
    "plt.style.use('seaborn-v0_8')\n",
    "sns.set_palette(\"husl\")"
   ]
  },
  {
   "cell_type": "markdown",
   "id": "6103978d",
   "metadata": {},
   "source": [
    "## 2. Load and Explore Data\n",
    "\n",
    "Load the dataset and perform initial exploration including shape, info, and basic statistics."
   ]
  },
  {
   "cell_type": "code",
   "execution_count": 2,
   "id": "61a98c1c",
   "metadata": {},
   "outputs": [
    {
     "data": {
      "text/plain": [
       "'2.3.2'"
      ]
     },
     "execution_count": 2,
     "metadata": {},
     "output_type": "execute_result"
    }
   ],
   "source": [
    "pd.__version__"
   ]
  },
  {
   "cell_type": "code",
   "execution_count": 3,
   "id": "338945a2",
   "metadata": {},
   "outputs": [
    {
     "name": "stdout",
     "output_type": "stream",
     "text": [
      "Downloading car_fuel_efficiency.csv...\n",
      "✅ Download successful!\n",
      "File: car_fuel_efficiency.csv\n",
      "Size: 874188 bytes\n"
     ]
    }
   ],
   "source": [
    "import urllib.request\n",
    "import os\n",
    "\n",
    "# Download the dataset\n",
    "url = \"https://raw.githubusercontent.com/alexeygrigorev/datasets/master/car_fuel_efficiency.csv\"\n",
    "filename = \"car_fuel_efficiency.csv\"\n",
    "\n",
    "print(f\"Downloading {filename}...\")\n",
    "urllib.request.urlretrieve(url, filename)\n",
    "\n",
    "# Verify the download\n",
    "if os.path.exists(filename):\n",
    "    file_size = os.path.getsize(filename)\n",
    "    print(f\"✅ Download successful!\")\n",
    "    print(f\"File: {filename}\")\n",
    "    print(f\"Size: {file_size} bytes\")\n",
    "else:\n",
    "    print(\"❌ Download failed!\")"
   ]
  },
  {
   "cell_type": "code",
   "execution_count": 10,
   "id": "aef1a112",
   "metadata": {},
   "outputs": [
    {
     "name": "stdout",
     "output_type": "stream",
     "text": [
      "Dataset loaded successfully!\n",
      "Dataset shape: (9704, 11)\n",
      "\n",
      "First few rows:\n"
     ]
    },
    {
     "data": {
      "application/vnd.microsoft.datawrangler.viewer.v0+json": {
       "columns": [
        {
         "name": "index",
         "rawType": "int64",
         "type": "integer"
        },
        {
         "name": "engine_displacement",
         "rawType": "int64",
         "type": "integer"
        },
        {
         "name": "num_cylinders",
         "rawType": "float64",
         "type": "float"
        },
        {
         "name": "horsepower",
         "rawType": "float64",
         "type": "float"
        },
        {
         "name": "vehicle_weight",
         "rawType": "float64",
         "type": "float"
        },
        {
         "name": "acceleration",
         "rawType": "float64",
         "type": "float"
        },
        {
         "name": "model_year",
         "rawType": "int64",
         "type": "integer"
        },
        {
         "name": "origin",
         "rawType": "object",
         "type": "string"
        },
        {
         "name": "fuel_type",
         "rawType": "object",
         "type": "string"
        },
        {
         "name": "drivetrain",
         "rawType": "object",
         "type": "string"
        },
        {
         "name": "num_doors",
         "rawType": "float64",
         "type": "float"
        },
        {
         "name": "fuel_efficiency_mpg",
         "rawType": "float64",
         "type": "float"
        }
       ],
       "ref": "80bf1c14-e756-4b0c-8efa-eaf5b5a783dc",
       "rows": [
        [
         "0",
         "170",
         "3.0",
         "159.0",
         "3413.433758606219",
         "17.7",
         "2003",
         "Europe",
         "Gasoline",
         "All-wheel drive",
         "0.0",
         "13.231728906241411"
        ],
        [
         "1",
         "130",
         "5.0",
         "97.0",
         "3149.6649342200353",
         "17.8",
         "2007",
         "USA",
         "Gasoline",
         "Front-wheel drive",
         "0.0",
         "13.688217435463793"
        ],
        [
         "2",
         "170",
         null,
         "78.0",
         "3079.03899736884",
         "15.1",
         "2018",
         "Europe",
         "Gasoline",
         "Front-wheel drive",
         "0.0",
         "14.246340998160866"
        ],
        [
         "3",
         "220",
         "4.0",
         null,
         "2542.392401828378",
         "20.2",
         "2009",
         "USA",
         "Diesel",
         "All-wheel drive",
         "2.0",
         "16.91273559598635"
        ],
        [
         "4",
         "210",
         "1.0",
         "140.0",
         "3460.870989989018",
         "14.4",
         "2009",
         "Europe",
         "Gasoline",
         "All-wheel drive",
         "2.0",
         "12.488369121964562"
        ]
       ],
       "shape": {
        "columns": 11,
        "rows": 5
       }
      },
      "text/html": [
       "<div>\n",
       "<style scoped>\n",
       "    .dataframe tbody tr th:only-of-type {\n",
       "        vertical-align: middle;\n",
       "    }\n",
       "\n",
       "    .dataframe tbody tr th {\n",
       "        vertical-align: top;\n",
       "    }\n",
       "\n",
       "    .dataframe thead th {\n",
       "        text-align: right;\n",
       "    }\n",
       "</style>\n",
       "<table border=\"1\" class=\"dataframe\">\n",
       "  <thead>\n",
       "    <tr style=\"text-align: right;\">\n",
       "      <th></th>\n",
       "      <th>engine_displacement</th>\n",
       "      <th>num_cylinders</th>\n",
       "      <th>horsepower</th>\n",
       "      <th>vehicle_weight</th>\n",
       "      <th>acceleration</th>\n",
       "      <th>model_year</th>\n",
       "      <th>origin</th>\n",
       "      <th>fuel_type</th>\n",
       "      <th>drivetrain</th>\n",
       "      <th>num_doors</th>\n",
       "      <th>fuel_efficiency_mpg</th>\n",
       "    </tr>\n",
       "  </thead>\n",
       "  <tbody>\n",
       "    <tr>\n",
       "      <th>0</th>\n",
       "      <td>170</td>\n",
       "      <td>3.0</td>\n",
       "      <td>159.0</td>\n",
       "      <td>3413.433759</td>\n",
       "      <td>17.7</td>\n",
       "      <td>2003</td>\n",
       "      <td>Europe</td>\n",
       "      <td>Gasoline</td>\n",
       "      <td>All-wheel drive</td>\n",
       "      <td>0.0</td>\n",
       "      <td>13.231729</td>\n",
       "    </tr>\n",
       "    <tr>\n",
       "      <th>1</th>\n",
       "      <td>130</td>\n",
       "      <td>5.0</td>\n",
       "      <td>97.0</td>\n",
       "      <td>3149.664934</td>\n",
       "      <td>17.8</td>\n",
       "      <td>2007</td>\n",
       "      <td>USA</td>\n",
       "      <td>Gasoline</td>\n",
       "      <td>Front-wheel drive</td>\n",
       "      <td>0.0</td>\n",
       "      <td>13.688217</td>\n",
       "    </tr>\n",
       "    <tr>\n",
       "      <th>2</th>\n",
       "      <td>170</td>\n",
       "      <td>NaN</td>\n",
       "      <td>78.0</td>\n",
       "      <td>3079.038997</td>\n",
       "      <td>15.1</td>\n",
       "      <td>2018</td>\n",
       "      <td>Europe</td>\n",
       "      <td>Gasoline</td>\n",
       "      <td>Front-wheel drive</td>\n",
       "      <td>0.0</td>\n",
       "      <td>14.246341</td>\n",
       "    </tr>\n",
       "    <tr>\n",
       "      <th>3</th>\n",
       "      <td>220</td>\n",
       "      <td>4.0</td>\n",
       "      <td>NaN</td>\n",
       "      <td>2542.392402</td>\n",
       "      <td>20.2</td>\n",
       "      <td>2009</td>\n",
       "      <td>USA</td>\n",
       "      <td>Diesel</td>\n",
       "      <td>All-wheel drive</td>\n",
       "      <td>2.0</td>\n",
       "      <td>16.912736</td>\n",
       "    </tr>\n",
       "    <tr>\n",
       "      <th>4</th>\n",
       "      <td>210</td>\n",
       "      <td>1.0</td>\n",
       "      <td>140.0</td>\n",
       "      <td>3460.870990</td>\n",
       "      <td>14.4</td>\n",
       "      <td>2009</td>\n",
       "      <td>Europe</td>\n",
       "      <td>Gasoline</td>\n",
       "      <td>All-wheel drive</td>\n",
       "      <td>2.0</td>\n",
       "      <td>12.488369</td>\n",
       "    </tr>\n",
       "  </tbody>\n",
       "</table>\n",
       "</div>"
      ],
      "text/plain": [
       "   engine_displacement  num_cylinders  horsepower  vehicle_weight  \\\n",
       "0                  170            3.0       159.0     3413.433759   \n",
       "1                  130            5.0        97.0     3149.664934   \n",
       "2                  170            NaN        78.0     3079.038997   \n",
       "3                  220            4.0         NaN     2542.392402   \n",
       "4                  210            1.0       140.0     3460.870990   \n",
       "\n",
       "   acceleration  model_year  origin fuel_type         drivetrain  num_doors  \\\n",
       "0          17.7        2003  Europe  Gasoline    All-wheel drive        0.0   \n",
       "1          17.8        2007     USA  Gasoline  Front-wheel drive        0.0   \n",
       "2          15.1        2018  Europe  Gasoline  Front-wheel drive        0.0   \n",
       "3          20.2        2009     USA    Diesel    All-wheel drive        2.0   \n",
       "4          14.4        2009  Europe  Gasoline    All-wheel drive        2.0   \n",
       "\n",
       "   fuel_efficiency_mpg  \n",
       "0            13.231729  \n",
       "1            13.688217  \n",
       "2            14.246341  \n",
       "3            16.912736  \n",
       "4            12.488369  "
      ]
     },
     "execution_count": 10,
     "metadata": {},
     "output_type": "execute_result"
    }
   ],
   "source": [
    "# Load the dataset\n",
    "df = pd.read_csv(filename)\n",
    "\n",
    "print(\"Dataset loaded successfully!\")\n",
    "print(f\"Dataset shape: {df.shape}\")\n",
    "print(\"\\nFirst few rows:\")\n",
    "df.head()"
   ]
  },
  {
   "cell_type": "code",
   "execution_count": 11,
   "id": "beb47a95",
   "metadata": {},
   "outputs": [
    {
     "name": "stdout",
     "output_type": "stream",
     "text": [
      "Dataset Info:\n",
      "<class 'pandas.core.frame.DataFrame'>\n",
      "RangeIndex: 9704 entries, 0 to 9703\n",
      "Data columns (total 11 columns):\n",
      " #   Column               Non-Null Count  Dtype  \n",
      "---  ------               --------------  -----  \n",
      " 0   engine_displacement  9704 non-null   int64  \n",
      " 1   num_cylinders        9222 non-null   float64\n",
      " 2   horsepower           8996 non-null   float64\n",
      " 3   vehicle_weight       9704 non-null   float64\n",
      " 4   acceleration         8774 non-null   float64\n",
      " 5   model_year           9704 non-null   int64  \n",
      " 6   origin               9704 non-null   object \n",
      " 7   fuel_type            9704 non-null   object \n",
      " 8   drivetrain           9704 non-null   object \n",
      " 9   num_doors            9202 non-null   float64\n",
      " 10  fuel_efficiency_mpg  9704 non-null   float64\n",
      "dtypes: float64(6), int64(2), object(3)\n",
      "memory usage: 834.1+ KB\n",
      "None\n",
      "\n",
      "==================================================\n",
      "\n",
      "Basic Statistics:\n",
      "       engine_displacement  num_cylinders   horsepower  vehicle_weight  \\\n",
      "count          9704.000000    9222.000000  8996.000000     9704.000000   \n",
      "mean            199.708368       3.962481   149.657292     3001.280993   \n",
      "std              49.455319       1.999323    29.879555      497.894860   \n",
      "min              10.000000       0.000000    37.000000      952.681761   \n",
      "25%             170.000000       3.000000   130.000000     2666.248985   \n",
      "50%             200.000000       4.000000   149.000000     2993.226296   \n",
      "75%             230.000000       5.000000   170.000000     3334.957039   \n",
      "max             380.000000      13.000000   271.000000     4739.077089   \n",
      "\n",
      "       acceleration   model_year    num_doors  fuel_efficiency_mpg  \n",
      "count   8774.000000  9704.000000  9202.000000          9704.000000  \n",
      "mean      15.021928  2011.484027    -0.006412            14.985243  \n",
      "std        2.510339     6.659808     1.048162             2.556468  \n",
      "min        6.000000  2000.000000    -4.000000             6.200971  \n",
      "25%       13.300000  2006.000000    -1.000000            13.267459  \n",
      "50%       15.000000  2012.000000     0.000000            15.006037  \n",
      "75%       16.700000  2017.000000     1.000000            16.707965  \n",
      "max       24.300000  2023.000000     4.000000            25.967222  \n",
      "\n",
      "==================================================\n",
      "\n",
      "Missing Values:\n",
      "engine_displacement      0\n",
      "num_cylinders          482\n",
      "horsepower             708\n",
      "vehicle_weight           0\n",
      "acceleration           930\n",
      "model_year               0\n",
      "origin                   0\n",
      "fuel_type                0\n",
      "drivetrain               0\n",
      "num_doors              502\n",
      "fuel_efficiency_mpg      0\n",
      "dtype: int64\n",
      "\n",
      "==================================================\n",
      "\n",
      "Data Types:\n",
      "engine_displacement      int64\n",
      "num_cylinders          float64\n",
      "horsepower             float64\n",
      "vehicle_weight         float64\n",
      "acceleration           float64\n",
      "model_year               int64\n",
      "origin                  object\n",
      "fuel_type               object\n",
      "drivetrain              object\n",
      "num_doors              float64\n",
      "fuel_efficiency_mpg    float64\n",
      "dtype: object\n"
     ]
    }
   ],
   "source": [
    "# Basic data exploration\n",
    "print(\"Dataset Info:\")\n",
    "print(df.info())\n",
    "print(\"\\n\" + \"=\"*50 + \"\\n\")\n",
    "\n",
    "print(\"Basic Statistics:\")\n",
    "print(df.describe())\n",
    "print(\"\\n\" + \"=\"*50 + \"\\n\")\n",
    "\n",
    "print(\"Missing Values:\")\n",
    "print(df.isnull().sum())\n",
    "print(\"\\n\" + \"=\"*50 + \"\\n\")\n",
    "\n",
    "print(\"Data Types:\")\n",
    "print(df.dtypes)"
   ]
  },
  {
   "cell_type": "code",
   "execution_count": 12,
   "id": "1e746454",
   "metadata": {},
   "outputs": [
    {
     "name": "stdout",
     "output_type": "stream",
     "text": [
      "Fuel Type Analysis:\n",
      "==================================================\n",
      "Value counts:\n",
      "fuel_type\n",
      "Gasoline    4898\n",
      "Diesel      4806\n",
      "Name: count, dtype: int64\n",
      "\n",
      "Value counts (with percentages):\n",
      "fuel_type\n",
      "Gasoline    50.474031\n",
      "Diesel      49.525969\n",
      "Name: proportion, dtype: float64\n",
      "\n",
      "Unique values:\n",
      "['Gasoline' 'Diesel']\n",
      "\n",
      "Number of unique fuel types: 2\n",
      "\n",
      "Missing values in fuel_type: 0\n"
     ]
    }
   ],
   "source": [
    "print(\"Fuel Type Analysis:\")\n",
    "print(\"=\"*50)\n",
    "\n",
    "# Value counts\n",
    "print(\"Value counts:\")\n",
    "print(df['fuel_type'].value_counts())\n",
    "\n",
    "print(\"\\nValue counts (with percentages):\")\n",
    "print(df['fuel_type'].value_counts(normalize=True) * 100)\n",
    "\n",
    "print(\"\\nUnique values:\")\n",
    "print(df['fuel_type'].unique())\n",
    "\n",
    "print(f\"\\nNumber of unique fuel types: {df['fuel_type'].nunique()}\")\n",
    "\n",
    "# Check for missing values\n",
    "print(f\"\\nMissing values in fuel_type: {df['fuel_type'].isnull().sum()}\")\n"
   ]
  },
  {
   "cell_type": "code",
   "execution_count": 13,
   "id": "b03fc32d",
   "metadata": {},
   "outputs": [
    {
     "name": "stdout",
     "output_type": "stream",
     "text": [
      "Maximum Fuel Efficiency Analysis:\n",
      "==================================================\n",
      "Available regions:\n",
      "['Europe' 'USA' 'Asia']\n",
      "\n",
      "Number of cars from Asia: 3247\n",
      "Maximum fuel efficiency of cars from Asia: 23.759122836520497\n",
      "\n",
      "Cars with maximum efficiency from Asia:\n",
      "      fuel_efficiency_mpg fuel_type\n",
      "9387            23.759123  Gasoline\n",
      "\n",
      "Fuel efficiency comparison by region:\n",
      "         min    max   mean\n",
      "origin                    \n",
      "Asia    6.89  23.76  14.97\n",
      "Europe  6.20  25.97  14.94\n",
      "USA     6.70  24.97  15.04\n"
     ]
    }
   ],
   "source": [
    "# Find maximum fuel efficiency of cars from Asia\n",
    "print(\"Maximum Fuel Efficiency Analysis:\")\n",
    "print(\"=\"*50)\n",
    "\n",
    "# First, let's see what regions are available\n",
    "print(\"Available regions:\")\n",
    "print(df['origin'].unique())\n",
    "print()\n",
    "\n",
    "# Filter cars from Asia\n",
    "asia_cars = df[df['origin'] == 'Asia']\n",
    "print(f\"Number of cars from Asia: {len(asia_cars)}\")\n",
    "\n",
    "# Find maximum fuel efficiency for Asian cars\n",
    "max_efficiency_asia = asia_cars['fuel_efficiency_mpg'].max()\n",
    "print(f\"Maximum fuel efficiency of cars from Asia: {max_efficiency_asia}\")\n",
    "\n",
    "# Get details of the car(s) with maximum efficiency from Asia\n",
    "max_efficiency_cars = asia_cars[asia_cars['fuel_efficiency_mpg'] == max_efficiency_asia]\n",
    "print(f\"\\nCars with maximum efficiency from Asia:\")\n",
    "print(max_efficiency_cars[['fuel_efficiency_mpg', 'fuel_type']])\n",
    "\n",
    "# Compare with other regions\n",
    "print(f\"\\nFuel efficiency comparison by region:\")\n",
    "region_efficiency = df.groupby('origin')['fuel_efficiency_mpg'].agg(['min', 'max', 'mean']).round(2)\n",
    "print(region_efficiency)"
   ]
  },
  {
   "cell_type": "code",
   "execution_count": 14,
   "id": "325fbe45",
   "metadata": {},
   "outputs": [
    {
     "name": "stdout",
     "output_type": "stream",
     "text": [
      "horsepower Analysis:\n",
      "==================================================\n",
      "Median horsepower: 149.0\n",
      "Most frequent horsepower: 152.0\n",
      "New median horsepower (after filling missing values): 152.0\n"
     ]
    },
    {
     "name": "stderr",
     "output_type": "stream",
     "text": [
      "/var/folders/0c/w21bj2rd6kx7tq22967ln_sr0000gn/T/ipykernel_86994/4104714034.py:23: FutureWarning: A value is trying to be set on a copy of a DataFrame or Series through chained assignment using an inplace method.\n",
      "The behavior will change in pandas 3.0. This inplace method will never work because the intermediate object on which we are setting values always behaves as a copy.\n",
      "\n",
      "For example, when doing 'df[col].method(value, inplace=True)', try using 'df.method({col: value}, inplace=True)' or df[col] = df[col].method(value) instead, to perform the operation inplace on the original object.\n",
      "\n",
      "\n",
      "  df['horsepower'].fillna(most_frequent_horsepower, inplace=True)\n"
     ]
    }
   ],
   "source": [
    "# Median value of horsepower\n",
    "# Find the median value of horsepower column in the dataset.\n",
    "# Next, calculate the most frequent value of the same horsepower column.\n",
    "# Use fillna method to fill the missing values in horsepower column with the most frequent value from the previous step.\n",
    "# Now, calculate the median value of horsepower once again.\n",
    "print(\"horsepower Analysis:\")\n",
    "print(\"=\"*50)\n",
    "\n",
    "# First, let's see what regions are available\n",
    "# print(\"Available horsepower:\")\n",
    "# print(df['horsepower'].unique())\n",
    "# print()\n",
    "\n",
    "# Find the median value of horsepower\n",
    "median_horsepower = df['horsepower'].median()\n",
    "print(f\"Median horsepower: {median_horsepower}\")\n",
    "\n",
    "# Find the most frequent value (mode) of horsepower\n",
    "most_frequent_horsepower = df['horsepower'].mode()[0]\n",
    "print(f\"Most frequent horsepower: {most_frequent_horsepower}\")\n",
    "\n",
    "# Fill missing values in horsepower with the most frequent value\n",
    "df['horsepower'].fillna(most_frequent_horsepower, inplace=True)\n",
    "\n",
    "# Calculate the median value of horsepower again\n",
    "new_median_horsepower = df['horsepower'].median()\n",
    "print(f\"New median horsepower (after filling missing values): {new_median_horsepower}\")"
   ]
  },
  {
   "cell_type": "code",
   "execution_count": null,
   "id": "36c47611",
   "metadata": {},
   "outputs": [
    {
     "name": "stdout",
     "output_type": "stream",
     "text": [
      "Sum of weights Analysis:\n",
      "==================================================\n",
      "[[2714.21930965 2016.        ]\n",
      " [2783.86897424 2010.        ]\n",
      " [3582.68736772 2007.        ]\n",
      " [2231.8081416  2011.        ]\n",
      " [2659.43145076 2016.        ]\n",
      " [2844.22753389 2014.        ]\n",
      " [3761.99403819 2019.        ]]\n",
      "XTX\n",
      "[[62248334.33150761 41431216.5073268 ]\n",
      " [41431216.5073268  28373339.        ]]\n",
      "XTX_inv\n",
      "[[ 5.71497081e-07 -8.34509443e-07]\n",
      " [-8.34509443e-07  1.25380877e-06]]\n",
      "w\n",
      "[0.01386421 0.5049067 ]\n",
      "Sum of all elements in w: 0.5187709081074006\n"
     ]
    }
   ],
   "source": [
    "# Sum of weights\n",
    "print(\"Sum of weights Analysis:\")\n",
    "print(\"=\"*50)\n",
    "# Select all the cars from Asia\n",
    "asia_cars = df[df['origin'] == 'Asia']\n",
    "# Select only columns vehicle_weight and model_year\n",
    "asia_cars_selected = asia_cars[['vehicle_weight', 'model_year']]\n",
    "# Select the first 7 values\n",
    "asia_cars_first7 = asia_cars_selected.head(7)\n",
    "# Get the underlying NumPy array. Let's call it X.\n",
    "X = asia_cars_first7.to_numpy()\n",
    "# Compute matrix-matrix multiplication between the transpose of X and X. To get the transpose, use X.T. Let's call the result XTX.\n",
    "print(X)\n",
    "\n",
    "XTX = np.dot(X.T, X)\n",
    "print(\"XTX\")\n",
    "print(XTX)\n",
    "# Invert XTX.\n",
    "XTX_inv = np.linalg.inv(XTX) # Invert XTX\n",
    "print(\"XTX_inv\")\n",
    "print(XTX_inv)\n",
    "\n",
    "# Create an array y with values [1100, 1300, 800, 900, 1000, 1100, 1200].\n",
    "y = np.array([1100, 1300, 800, 900, 1000, 1100, 1200])\n",
    "# Multiply the inverse of XTX with the transpose of X, and then multiply the result by y. Call the result w.\n",
    "# w = np.dot(XTX_inv, np.dot(X.T, y))\n",
    "w = np.dot(np.dot(XTX_inv, X.T), y)\n",
    "print(\"w\")\n",
    "print(w)\n",
    "\n",
    "# What's the sum of all the elements of the result?\n",
    "sum_w = w.sum()\n",
    "print(f\"Sum of all elements in w: {sum_w}\")\n",
    "https://github.com/Sergjalo/ml-zoomcamp.git"
   ]
  }
 ],
 "metadata": {
  "kernelspec": {
   "display_name": ".venv (3.13.5)",
   "language": "python",
   "name": "python3"
  },
  "language_info": {
   "codemirror_mode": {
    "name": "ipython",
    "version": 3
   },
   "file_extension": ".py",
   "mimetype": "text/x-python",
   "name": "python",
   "nbconvert_exporter": "python",
   "pygments_lexer": "ipython3",
   "version": "3.13.5"
  }
 },
 "nbformat": 4,
 "nbformat_minor": 5
}
