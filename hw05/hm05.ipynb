{
 "cells": [
  {
   "cell_type": "code",
   "execution_count": 10,
   "id": "7ada8ca3",
   "metadata": {},
   "outputs": [
    {
     "name": "stdout",
     "output_type": "stream",
     "text": [
      "Downloading pipeline_v1.bin...\n",
      "✅ Download successful!\n",
      "File: pipeline_v1.bin\n",
      "Size: 1300 bytes\n",
      "✅ Download successful!\n",
      "File: pipeline_v1.bin\n",
      "Size: 1300 bytes\n"
     ]
    }
   ],
   "source": [
    "import urllib.request\n",
    "import os\n",
    "\n",
    "# Download the dataset\n",
    "url = \"https://github.com/DataTalksClub/machine-learning-zoomcamp/raw/refs/heads/master/cohorts/2025/05-deployment/pipeline_v1.bin\"\n",
    "filename = \"pipeline_v1.bin\"\n",
    "\n",
    "print(f\"Downloading {filename}...\")\n",
    "urllib.request.urlretrieve(url, filename)\n",
    "\n",
    "# Verify the download\n",
    "if os.path.exists(filename):\n",
    "    file_size = os.path.getsize(filename)\n",
    "    print(f\"✅ Download successful!\")\n",
    "    print(f\"File: {filename}\")\n",
    "    print(f\"Size: {file_size} bytes\")\n",
    "else:\n",
    "    print(\"❌ Download failed!\")\n",
    "#  desired target for classification task will be converted variable - has the client signed up to the platform or not."
   ]
  },
  {
   "cell_type": "markdown",
   "id": "adbaefa3",
   "metadata": {},
   "source": [
    "# Model Scoring\n",
    "\n",
    "load the trained pipeline and use it to score a new record."
   ]
  },
  {
   "cell_type": "code",
   "execution_count": 12,
   "id": "afb96ad4",
   "metadata": {},
   "outputs": [
    {
     "name": "stdout",
     "output_type": "stream",
     "text": [
      "Pipeline loaded successfully!\n",
      "DictVectorizer: DictVectorizer()\n",
      "Model: LogisticRegression(solver='liblinear')\n",
      "\n",
      "Record to score: {'lead_source': 'paid_ads', 'number_of_courses_viewed': 2, 'annual_income': 79276.0}\n",
      "Transformed features shape: (1, 8)\n",
      "\n",
      "Probability that this lead will convert: 0.5336\n",
      "Probability percentage: 53.36%\n"
     ]
    }
   ],
   "source": [
    "import pickle\n",
    "\n",
    "# Load the trained pipeline\n",
    "with open('pipeline_v1.bin', 'rb') as f:\n",
    "    dv, model = pickle.load(f)\n",
    "\n",
    "print(\"Pipeline loaded successfully!\")\n",
    "print(f\"DictVectorizer: {dv}\")\n",
    "print(f\"Model: {model}\")\n",
    "\n",
    "# The record to score\n",
    "record = {\n",
    "    \"lead_source\": \"paid_ads\",\n",
    "    \"number_of_courses_viewed\": 2,\n",
    "    \"annual_income\": 79276.0\n",
    "}\n",
    "\n",
    "print(f\"\\nRecord to score: {record}\")\n",
    "\n",
    "# Transform the record using the DictVectorizer\n",
    "X = dv.transform([record])\n",
    "print(f\"Transformed features shape: {X.shape}\")\n",
    "\n",
    "# Get the probability prediction\n",
    "probability = model.predict_proba(X)[0, 1]\n",
    "\n",
    "print(f\"\\nProbability that this lead will convert: {probability:.4f}\")\n",
    "print(f\"Probability percentage: {probability * 100:.2f}%\")"
   ]
  }
 ],
 "metadata": {
  "kernelspec": {
   "display_name": "ml_zoomcamp_hw05 (3.13.2)",
   "language": "python",
   "name": "python3"
  },
  "language_info": {
   "codemirror_mode": {
    "name": "ipython",
    "version": 3
   },
   "file_extension": ".py",
   "mimetype": "text/x-python",
   "name": "python",
   "nbconvert_exporter": "python",
   "pygments_lexer": "ipython3",
   "version": "3.13.2"
  }
 },
 "nbformat": 4,
 "nbformat_minor": 5
}
