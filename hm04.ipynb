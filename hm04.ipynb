{
 "cells": [
  {
   "cell_type": "code",
   "execution_count": 2,
   "id": "7ada8ca3",
   "metadata": {},
   "outputs": [
    {
     "name": "stdout",
     "output_type": "stream",
     "text": [
      "Downloading course_lead_scoring.csv...\n",
      "✅ Download successful!\n",
      "File: course_lead_scoring.csv\n",
      "Size: 80876 bytes\n"
     ]
    }
   ],
   "source": [
    "import numpy as np\n",
    "import pandas as pd\n",
    "import matplotlib.pyplot as plt\n",
    "import seaborn as sns\n",
    "from sklearn.model_selection import train_test_split\n",
    "from sklearn.feature_selection import mutual_info_classif\n",
    "from sklearn.linear_model import LogisticRegression\n",
    "from sklearn.metrics import accuracy_score\n",
    "\n",
    "\n",
    "import urllib.request\n",
    "import os\n",
    "\n",
    "# Download the dataset\n",
    "url = \"https://raw.githubusercontent.com/alexeygrigorev/datasets/master/course_lead_scoring.csv\"\n",
    "filename = \"course_lead_scoring.csv\"\n",
    "\n",
    "print(f\"Downloading {filename}...\")\n",
    "# urllib.request.urlretrieve(url, filename)\n",
    "\n",
    "# Verify the download\n",
    "if os.path.exists(filename):\n",
    "    file_size = os.path.getsize(filename)\n",
    "    print(f\"✅ Download successful!\")\n",
    "    print(f\"File: {filename}\")\n",
    "    print(f\"Size: {file_size} bytes\")\n",
    "else:\n",
    "    print(\"❌ Download failed!\")\n",
    "#  desired target for classification task will be converted variable - has the client signed up to the platform or not."
   ]
  },
  {
   "cell_type": "code",
   "execution_count": 3,
   "id": "650317a8",
   "metadata": {},
   "outputs": [
    {
     "data": {
      "application/vnd.microsoft.datawrangler.viewer.v0+json": {
       "columns": [
        {
         "name": "index",
         "rawType": "int64",
         "type": "integer"
        },
        {
         "name": "lead_source",
         "rawType": "object",
         "type": "string"
        },
        {
         "name": "industry",
         "rawType": "object",
         "type": "unknown"
        },
        {
         "name": "number_of_courses_viewed",
         "rawType": "int64",
         "type": "integer"
        },
        {
         "name": "annual_income",
         "rawType": "float64",
         "type": "float"
        },
        {
         "name": "employment_status",
         "rawType": "object",
         "type": "unknown"
        },
        {
         "name": "location",
         "rawType": "object",
         "type": "string"
        },
        {
         "name": "interaction_count",
         "rawType": "int64",
         "type": "integer"
        },
        {
         "name": "lead_score",
         "rawType": "float64",
         "type": "float"
        },
        {
         "name": "converted",
         "rawType": "int64",
         "type": "integer"
        }
       ],
       "ref": "45fc3418-6f19-4a4a-8045-f17104daae70",
       "rows": [
        [
         "0",
         "paid_ads",
         null,
         "1",
         "79450.0",
         "unemployed",
         "south_america",
         "4",
         "0.94",
         "1"
        ],
        [
         "1",
         "social_media",
         "retail",
         "1",
         "46992.0",
         "employed",
         "south_america",
         "1",
         "0.8",
         "0"
        ],
        [
         "2",
         "events",
         "healthcare",
         "5",
         "78796.0",
         "unemployed",
         "australia",
         "3",
         "0.69",
         "1"
        ],
        [
         "3",
         "paid_ads",
         "retail",
         "2",
         "83843.0",
         null,
         "australia",
         "1",
         "0.87",
         "0"
        ],
        [
         "4",
         "referral",
         "education",
         "3",
         "85012.0",
         "self_employed",
         "europe",
         "3",
         "0.62",
         "1"
        ]
       ],
       "shape": {
        "columns": 9,
        "rows": 5
       }
      },
      "text/html": [
       "<div>\n",
       "<style scoped>\n",
       "    .dataframe tbody tr th:only-of-type {\n",
       "        vertical-align: middle;\n",
       "    }\n",
       "\n",
       "    .dataframe tbody tr th {\n",
       "        vertical-align: top;\n",
       "    }\n",
       "\n",
       "    .dataframe thead th {\n",
       "        text-align: right;\n",
       "    }\n",
       "</style>\n",
       "<table border=\"1\" class=\"dataframe\">\n",
       "  <thead>\n",
       "    <tr style=\"text-align: right;\">\n",
       "      <th></th>\n",
       "      <th>lead_source</th>\n",
       "      <th>industry</th>\n",
       "      <th>number_of_courses_viewed</th>\n",
       "      <th>annual_income</th>\n",
       "      <th>employment_status</th>\n",
       "      <th>location</th>\n",
       "      <th>interaction_count</th>\n",
       "      <th>lead_score</th>\n",
       "      <th>converted</th>\n",
       "    </tr>\n",
       "  </thead>\n",
       "  <tbody>\n",
       "    <tr>\n",
       "      <th>0</th>\n",
       "      <td>paid_ads</td>\n",
       "      <td>NaN</td>\n",
       "      <td>1</td>\n",
       "      <td>79450.0</td>\n",
       "      <td>unemployed</td>\n",
       "      <td>south_america</td>\n",
       "      <td>4</td>\n",
       "      <td>0.94</td>\n",
       "      <td>1</td>\n",
       "    </tr>\n",
       "    <tr>\n",
       "      <th>1</th>\n",
       "      <td>social_media</td>\n",
       "      <td>retail</td>\n",
       "      <td>1</td>\n",
       "      <td>46992.0</td>\n",
       "      <td>employed</td>\n",
       "      <td>south_america</td>\n",
       "      <td>1</td>\n",
       "      <td>0.80</td>\n",
       "      <td>0</td>\n",
       "    </tr>\n",
       "    <tr>\n",
       "      <th>2</th>\n",
       "      <td>events</td>\n",
       "      <td>healthcare</td>\n",
       "      <td>5</td>\n",
       "      <td>78796.0</td>\n",
       "      <td>unemployed</td>\n",
       "      <td>australia</td>\n",
       "      <td>3</td>\n",
       "      <td>0.69</td>\n",
       "      <td>1</td>\n",
       "    </tr>\n",
       "    <tr>\n",
       "      <th>3</th>\n",
       "      <td>paid_ads</td>\n",
       "      <td>retail</td>\n",
       "      <td>2</td>\n",
       "      <td>83843.0</td>\n",
       "      <td>NaN</td>\n",
       "      <td>australia</td>\n",
       "      <td>1</td>\n",
       "      <td>0.87</td>\n",
       "      <td>0</td>\n",
       "    </tr>\n",
       "    <tr>\n",
       "      <th>4</th>\n",
       "      <td>referral</td>\n",
       "      <td>education</td>\n",
       "      <td>3</td>\n",
       "      <td>85012.0</td>\n",
       "      <td>self_employed</td>\n",
       "      <td>europe</td>\n",
       "      <td>3</td>\n",
       "      <td>0.62</td>\n",
       "      <td>1</td>\n",
       "    </tr>\n",
       "  </tbody>\n",
       "</table>\n",
       "</div>"
      ],
      "text/plain": [
       "    lead_source    industry  number_of_courses_viewed  annual_income  \\\n",
       "0      paid_ads         NaN                         1        79450.0   \n",
       "1  social_media      retail                         1        46992.0   \n",
       "2        events  healthcare                         5        78796.0   \n",
       "3      paid_ads      retail                         2        83843.0   \n",
       "4      referral   education                         3        85012.0   \n",
       "\n",
       "  employment_status       location  interaction_count  lead_score  converted  \n",
       "0        unemployed  south_america                  4        0.94          1  \n",
       "1          employed  south_america                  1        0.80          0  \n",
       "2        unemployed      australia                  3        0.69          1  \n",
       "3               NaN      australia                  1        0.87          0  \n",
       "4     self_employed         europe                  3        0.62          1  "
      ]
     },
     "execution_count": 3,
     "metadata": {},
     "output_type": "execute_result"
    }
   ],
   "source": [
    "df = pd.read_csv('course_lead_scoring.csv')\n",
    "len(df)\n",
    "df.head()"
   ]
  },
  {
   "cell_type": "code",
   "execution_count": 4,
   "id": "5cf21835",
   "metadata": {},
   "outputs": [
    {
     "data": {
      "application/vnd.microsoft.datawrangler.viewer.v0+json": {
       "columns": [
        {
         "name": "index",
         "rawType": "object",
         "type": "string"
        },
        {
         "name": "0",
         "rawType": "int64",
         "type": "integer"
        }
       ],
       "ref": "a26b1a80-20d9-4004-8b9d-7fd44190daa9",
       "rows": [
        [
         "lead_source",
         "128"
        ],
        [
         "industry",
         "134"
        ],
        [
         "annual_income",
         "181"
        ],
        [
         "employment_status",
         "100"
        ],
        [
         "location",
         "63"
        ]
       ],
       "shape": {
        "columns": 1,
        "rows": 5
       }
      },
      "text/plain": [
       "lead_source          128\n",
       "industry             134\n",
       "annual_income        181\n",
       "employment_status    100\n",
       "location              63\n",
       "dtype: int64"
      ]
     },
     "execution_count": 4,
     "metadata": {},
     "output_type": "execute_result"
    }
   ],
   "source": [
    "# Check if the missing values are presented in the features.\n",
    "# If there are missing values:\n",
    "# For caterogiral features, replace them with 'NA'\n",
    "# For numerical features, replace with with 0.0\n",
    "df.isnull().sum()[df.isnull().sum() > 0]"
   ]
  },
  {
   "cell_type": "code",
   "execution_count": 6,
   "id": "6a4dae34",
   "metadata": {},
   "outputs": [
    {
     "data": {
      "application/vnd.microsoft.datawrangler.viewer.v0+json": {
       "columns": [
        {
         "name": "index",
         "rawType": "object",
         "type": "string"
        },
        {
         "name": "0",
         "rawType": "int64",
         "type": "integer"
        }
       ],
       "ref": "992e5215-794d-4c5d-9289-ed91df3f9312",
       "rows": [],
       "shape": {
        "columns": 1,
        "rows": 0
       }
      },
      "text/plain": [
       "Series([], dtype: int64)"
      ]
     },
     "execution_count": 6,
     "metadata": {},
     "output_type": "execute_result"
    }
   ],
   "source": [
    "for col in df.columns:\n",
    "    if df[col].dtype == 'object':\n",
    "        df[col] = df[col].fillna('NA')\n",
    "    else:\n",
    "        df[col] = df[col].fillna(0.0)\n",
    "df.isnull().sum()[df.isnull().sum() > 0]"
   ]
  },
  {
   "cell_type": "code",
   "execution_count": 16,
   "id": "18b1251d",
   "metadata": {},
   "outputs": [
    {
     "data": {
      "text/plain": [
       "((877, 8), (292, 8), (293, 8))"
      ]
     },
     "execution_count": 16,
     "metadata": {},
     "output_type": "execute_result"
    }
   ],
   "source": [
    "X = df.drop('converted', axis=1)\n",
    "y = df['converted']\n",
    "X_train, X_temp, y_train, y_temp = train_test_split(X, y, test_size=0.4, random_state=1)\n",
    "X_val, X_test, y_val, y_test = train_test_split(X_temp, y_temp, test_size=0.5, random_state=1)\n",
    "X_train.shape, X_val.shape, X_test.shape"
   ]
  },
  {
   "cell_type": "markdown",
   "id": "672884ec",
   "metadata": {},
   "source": [
    "# Question 1: ROC AUC feature importance\n",
    "\n",
    "ROC AUC could also be used to evaluate feature importance of numerical variables.\n",
    "\n",
    "Let's do that\n",
    "\n",
    "For each numerical variable, use it as score (aka prediction) and compute the AUC with the y variable as ground truth.\n",
    "Use the training dataset for that\n",
    "If your AUC is < 0.5, invert this variable by putting \"-\" in front\n",
    "\n",
    "(e.g. -df_train['balance'])\n",
    "\n",
    "AUC can go below 0.5 if the variable is negatively correlated with the target variable. You can change the direction of the correlation by negating this variable - then negative correlation becomes positive.\n",
    "\n",
    "Which numerical variable (among the following 4) has the highest AUC?\n",
    "```\n",
    "lead_score\n",
    "number_of_courses_viewed\n",
    "interaction_count\n",
    "annual_income\n",
    "```\n",
    "\n",
    "Answer: number_of_courses_viewed"
   ]
  },
  {
   "cell_type": "code",
   "execution_count": 17,
   "id": "664e5d1a",
   "metadata": {},
   "outputs": [
    {
     "name": "stdout",
     "output_type": "stream",
     "text": [
      "lead_score: AUC = 0.6111\n",
      "number_of_courses_viewed: AUC = 0.7652\n",
      "interaction_count: AUC = 0.7272\n",
      "annual_income: AUC = 0.5446\n",
      "\n",
      "Highest AUC: number_of_courses_viewed with AUC = 0.7652\n"
     ]
    }
   ],
   "source": [
    "from sklearn.metrics import roc_auc_score\n",
    "\n",
    "# Define the numerical variables to test\n",
    "numerical_vars = ['lead_score', 'number_of_courses_viewed', 'interaction_count', 'annual_income']\n",
    "\n",
    "# Calculate AUC for each numerical variable\n",
    "auc_scores = {}\n",
    "\n",
    "for var in numerical_vars:\n",
    "    # Use the variable as prediction score\n",
    "    scores = X_train[var]\n",
    "    \n",
    "    # Calculate AUC\n",
    "    auc = roc_auc_score(y_train, scores)\n",
    "    \n",
    "    # If AUC < 0.5, invert the variable\n",
    "    if auc < 0.5:\n",
    "        scores_inverted = -X_train[var]\n",
    "        auc_inverted = roc_auc_score(y_train, scores_inverted)\n",
    "        auc_scores[var] = auc_inverted\n",
    "        print(f\"{var}: Original AUC = {auc:.4f}, Inverted AUC = {auc_inverted:.4f}\")\n",
    "    else:\n",
    "        auc_scores[var] = auc\n",
    "        print(f\"{var}: AUC = {auc:.4f}\")\n",
    "\n",
    "# Find the variable with highest AUC\n",
    "best_var = max(auc_scores, key=auc_scores.get)\n",
    "print(f\"\\nHighest AUC: {best_var} with AUC = {auc_scores[best_var]:.4f}\")"
   ]
  },
  {
   "cell_type": "markdown",
   "id": "cf9ac9f8",
   "metadata": {},
   "source": [
    "# Question 2: Training the model\n",
    "\n",
    "Apply one-hot-encoding using DictVectorizer and train the logistic regression with these parameters:\n",
    "\n",
    "LogisticRegression(solver='liblinear', C=1.0, max_iter=1000)\n",
    "What's the AUC of this model on the validation dataset? (round to 3 digits)\n",
    "```\n",
    "0.32\n",
    "0.52\n",
    "0.72\n",
    "0.92\n",
    "```\n",
    "\n",
    "Answer: closest 0.72"
   ]
  },
  {
   "cell_type": "code",
   "execution_count": 18,
   "id": "73676de2",
   "metadata": {},
   "outputs": [
    {
     "name": "stdout",
     "output_type": "stream",
     "text": [
      "Training set shape after encoding: (877, 31)\n",
      "Validation set shape after encoding: (292, 31)\n",
      "AUC on validation dataset: 0.794\n"
     ]
    }
   ],
   "source": [
    "from sklearn.feature_extraction import DictVectorizer\n",
    "from sklearn.metrics import roc_auc_score\n",
    "\n",
    "# Convert DataFrames to list of dictionaries for DictVectorizer\n",
    "train_dicts = X_train.to_dict(orient='records')\n",
    "val_dicts = X_val.to_dict(orient='records')\n",
    "\n",
    "# Apply one-hot encoding using DictVectorizer\n",
    "dv = DictVectorizer(sparse=False)\n",
    "X_train_encoded = dv.fit_transform(train_dicts)\n",
    "X_val_encoded = dv.transform(val_dicts)\n",
    "\n",
    "print(f\"Training set shape after encoding: {X_train_encoded.shape}\")\n",
    "print(f\"Validation set shape after encoding: {X_val_encoded.shape}\")\n",
    "\n",
    "# Train logistic regression with specified parameters\n",
    "model = LogisticRegression(solver='liblinear', C=1.0, max_iter=1000)\n",
    "model.fit(X_train_encoded, y_train)\n",
    "\n",
    "# Get probability predictions for AUC calculation\n",
    "y_val_pred_proba = model.predict_proba(X_val_encoded)[:, 1]\n",
    "\n",
    "# Calculate AUC on validation dataset\n",
    "auc_score = roc_auc_score(y_val, y_val_pred_proba)\n",
    "print(f\"AUC on validation dataset: {round(auc_score, 3)}\")"
   ]
  },
  {
   "cell_type": "markdown",
   "id": "eefe0e50",
   "metadata": {},
   "source": [
    "# Question 3 Precision and Recall\n",
    "Now let's compute precision and recall for our model.\n",
    "\n",
    "Evaluate the model on all thresholds from 0.0 to 1.0 with step 0.01\n",
    "For each threshold, compute precision and recall\n",
    "Plot them\n",
    "At which threshold precision and recall curves intersect?\n",
    "```\n",
    "0.145\n",
    "0.345\n",
    "0.545\n",
    "0.745\n",
    "```\n",
    "\n",
    "Answer: 0.6, closest from given list is 0.545"
   ]
  },
  {
   "cell_type": "code",
   "execution_count": 20,
   "id": "46c54c07",
   "metadata": {},
   "outputs": [
    {
     "name": "stdout",
     "output_type": "stream",
     "text": [
      "[0.34246575 0.34246575 0.34246575 0.34246575 0.34246575 0.34246575\n",
      " 0.34246575 0.34246575 0.34246575 0.34246575 0.34246575 0.34246575\n",
      " 0.34246575 0.34246575 0.34246575 0.34246575 0.34246575 0.34246575\n",
      " 0.34246575 0.34246575 0.34020619 0.33617098 0.33617098 0.33617098\n",
      " 0.33617098 0.33389201 0.33389201 0.33159722 0.32928644 0.32928644\n",
      " 0.32225646 0.31820524 0.31582447 0.29959239 0.29710227 0.28897665\n",
      " 0.27879105 0.26950188 0.26152567 0.25610632 0.25060328 0.23805147\n",
      " 0.23231637 0.2252656  0.21639785 0.21036585 0.19692665 0.17998418\n",
      " 0.17575918 0.15564123 0.15564123 0.14894924 0.12525691 0.11686934\n",
      " 0.09780093 0.08626761 0.0707486  0.04202764 0.01258013 0.\n",
      " 0.00844298 0.03842213 0.06912879 0.09852687 0.12004573 0.14794304\n",
      " 0.15210324 0.18788451 0.18788451 0.20596264 0.2446396  0.2890625\n",
      " 0.30561156 0.3208936  0.35714286 0.39270833 0.40826114 0.42463861\n",
      " 0.46631944 0.4878876  0.54057018 0.61057692 0.64978448 0.66550926\n",
      " 0.68399235 0.70684524 0.76736111 0.81149194 0.8275463  0.84821429\n",
      " 0.91145833 0.92708333 0.92708333 0.9375     0.94791667 0.953125\n",
      " 0.97395833 0.98958333 0.99479167 0.         0.        ]\n",
      "Precision and Recall curves intersect at threshold: 0.600\n",
      "Precision at intersection: 0.811\n",
      "Recall at intersection: 0.802\n"
     ]
    },
    {
     "data": {
      "image/png": "[encoded data removed]",
      "text/plain": [
       "<Figure size 1000x600 with 1 Axes>"
      ]
     },
     "metadata": {},
     "output_type": "display_data"
    },
    {
     "name": "stdout",
     "output_type": "stream",
     "text": [
      "\n",
      "Answer: 0.600\n"
     ]
    }
   ],
   "source": [
    "from sklearn.metrics import precision_score, recall_score\n",
    "import numpy as np\n",
    "import matplotlib.pyplot as plt\n",
    "\n",
    "# Generate thresholds from 0.0 to 1.0 with step 0.01\n",
    "thresholds = np.arange(0.0, 1.01, 0.01)\n",
    "\n",
    "# Get probability predictions (use the model from Question 2)\n",
    "y_val_pred_proba = model.predict_proba(X_val_encoded)[:, 1]\n",
    "\n",
    "# Calculate precision and recall for each threshold\n",
    "precisions = []\n",
    "recalls = []\n",
    "\n",
    "for threshold in thresholds:\n",
    "    # Convert probabilities to binary predictions using the threshold\n",
    "    y_pred_threshold = (y_val_pred_proba >= threshold).astype(int)\n",
    "    \n",
    "    # Calculate precision and recall\n",
    "    # Handle edge cases where no positive predictions are made\n",
    "    if y_pred_threshold.sum() == 0:\n",
    "        precision = 0.0 if threshold > 0 else np.nan\n",
    "    else:\n",
    "        precision = precision_score(y_val, y_pred_threshold, zero_division=0)\n",
    "    \n",
    "    recall = recall_score(y_val, y_pred_threshold, zero_division=0)\n",
    "    \n",
    "    precisions.append(precision)\n",
    "    recalls.append(recall)\n",
    "\n",
    "# Convert to numpy arrays for easier manipulation\n",
    "precisions = np.array(precisions)\n",
    "recalls = np.array(recalls)\n",
    "\n",
    "# Plot precision and recall curves\n",
    "plt.figure(figsize=(10, 6))\n",
    "plt.plot(thresholds, precisions, label='Precision', linewidth=2)\n",
    "plt.plot(thresholds, recalls, label='Recall', linewidth=2)\n",
    "plt.xlabel('Threshold')\n",
    "plt.ylabel('Score')\n",
    "plt.title('Precision and Recall vs Threshold')\n",
    "plt.legend()\n",
    "plt.grid(True, alpha=0.3)\n",
    "plt.xlim(0, 1)\n",
    "plt.ylim(0, 1)\n",
    "\n",
    "# Find intersection point\n",
    "# Calculate absolute difference between precision and recall\n",
    "diff = np.abs(precisions - recalls)\n",
    "\n",
    "# Find the index where the difference is minimal (intersection)\n",
    "# Exclude NaN values\n",
    "valid_indices = ~(np.isnan(precisions) | np.isnan(recalls))\n",
    "valid_diff = diff[valid_indices]\n",
    "valid_thresholds = thresholds[valid_indices]\n",
    "print(valid_diff)\n",
    "\n",
    "if len(valid_diff) > 0:\n",
    "    non_zero_mask = valid_diff > 0\n",
    "    non_zero_diff = valid_diff[non_zero_mask]\n",
    "    non_zero_thresholds = valid_thresholds[non_zero_mask]\n",
    "    \n",
    "    min_diff_idx = np.argmin(non_zero_diff)\n",
    "    intersection_threshold = non_zero_thresholds[min_diff_idx]\n",
    "    \n",
    "    # Get the corresponding precision and recall values\n",
    "    original_idx = np.where(valid_thresholds == intersection_threshold)[0][0]\n",
    "    intersection_precision = precisions[valid_indices][original_idx]\n",
    "    intersection_recall = recalls[valid_indices][original_idx]\n",
    "\n",
    "    # Mark the intersection point\n",
    "    plt.plot(intersection_threshold, intersection_precision, 'ro', markersize=8, label=f'Intersection at {intersection_threshold:.3f}')\n",
    "    plt.legend()\n",
    "    \n",
    "    print(f\"Precision and Recall curves intersect at threshold: {intersection_threshold:.3f}\")\n",
    "    print(f\"Precision at intersection: {intersection_precision:.3f}\")\n",
    "    print(f\"Recall at intersection: {intersection_recall:.3f}\")\n",
    "\n",
    "plt.tight_layout()\n",
    "plt.show()\n",
    "\n",
    "# Display the intersection threshold\n",
    "print(f\"\\nAnswer: {intersection_threshold:.3f}\")"
   ]
  },
  {
   "cell_type": "markdown",
   "id": "fa6eec9e",
   "metadata": {},
   "source": [
    "# Question 4: F1 score\n",
    "Precision and recall are conflicting - when one grows, the other goes down. That's why they are often combined into the F1 score - a metrics that takes into account both\n",
    "\n",
    "This is the formula for computing F1:\n",
    "\n",
    "F1=2⋅P⋅R/ (P+R)\n",
    "\n",
    "Where P is precision and R is recall.\n",
    "\n",
    "Let's compute F1 for all thresholds from 0.0 to 1.0 with increment 0.01\n",
    "\n",
    "At which threshold F1 is maximal?\n",
    "```\n",
    "0.14\n",
    "0.34\n",
    "0.54\n",
    "0.74\n",
    "```\n",
    "\n",
    "Answer: 0.47, closest is 0.54"
   ]
  },
  {
   "cell_type": "code",
   "execution_count": 21,
   "id": "d1f9f9ea",
   "metadata": {},
   "outputs": [
    {
     "name": "stdout",
     "output_type": "stream",
     "text": [
      "Maximum F1 score: 0.8485 at threshold: 0.470\n"
     ]
    },
    {
     "data": {
      "image/png": "[encoded data removed]",
      "text/plain": [
       "<Figure size 1000x600 with 1 Axes>"
      ]
     },
     "metadata": {},
     "output_type": "display_data"
    },
    {
     "name": "stdout",
     "output_type": "stream",
     "text": [
      "\n",
      "Answer: 0.47\n"
     ]
    }
   ],
   "source": [
    "from sklearn.metrics import f1_score\n",
    "import numpy as np\n",
    "import matplotlib.pyplot as plt\n",
    "\n",
    "# Generate thresholds from 0.0 to 1.0 with step 0.01\n",
    "thresholds = np.arange(0.0, 1.01, 0.01)\n",
    "\n",
    "# Get probability predictions (use the model from Question 2)\n",
    "y_val_pred_proba = model.predict_proba(X_val_encoded)[:, 1]\n",
    "\n",
    "# Calculate F1 score for each threshold\n",
    "f1_scores = []\n",
    "\n",
    "for threshold in thresholds:\n",
    "    # Convert probabilities to binary predictions using the threshold\n",
    "    y_pred_threshold = (y_val_pred_proba >= threshold).astype(int)\n",
    "    \n",
    "    # Calculate F1 score\n",
    "    f1 = f1_score(y_val, y_pred_threshold, zero_division=0)\n",
    "    f1_scores.append(f1)\n",
    "\n",
    "# Convert to numpy array\n",
    "f1_scores = np.array(f1_scores)\n",
    "\n",
    "# Find the threshold with maximum F1 score\n",
    "max_f1_idx = np.argmax(f1_scores)\n",
    "max_f1_threshold = thresholds[max_f1_idx]\n",
    "max_f1_score = f1_scores[max_f1_idx]\n",
    "\n",
    "print(f\"Maximum F1 score: {max_f1_score:.4f} at threshold: {max_f1_threshold:.3f}\")\n",
    "\n",
    "# Plot F1 score vs threshold\n",
    "plt.figure(figsize=(10, 6))\n",
    "plt.plot(thresholds, f1_scores, label='F1 Score', linewidth=2, color='green')\n",
    "plt.axvline(x=max_f1_threshold, color='red', linestyle='--', alpha=0.7, label=f'Max F1 at {max_f1_threshold:.3f}')\n",
    "plt.xlabel('Threshold')\n",
    "plt.ylabel('F1 Score')\n",
    "plt.title('F1 Score vs Threshold')\n",
    "plt.legend()\n",
    "plt.grid(True, alpha=0.3)\n",
    "plt.xlim(0, 1)\n",
    "plt.ylim(0, 1)\n",
    "\n",
    "# Mark the maximum point\n",
    "plt.plot(max_f1_threshold, max_f1_score, 'ro', markersize=8)\n",
    "plt.annotate(f'Max F1: {max_f1_score:.3f}\\nThreshold: {max_f1_threshold:.3f}', \n",
    "             xy=(max_f1_threshold, max_f1_score), \n",
    "             xytext=(max_f1_threshold + 0.1, max_f1_score - 0.05),\n",
    "             fontsize=10,\n",
    "             bbox=dict(boxstyle=\"round,pad=0.3\", facecolor=\"yellow\", alpha=0.7))\n",
    "\n",
    "plt.tight_layout()\n",
    "plt.show()\n",
    "\n",
    "print(f\"\\nAnswer: {max_f1_threshold:.2f}\")"
   ]
  },
  {
   "cell_type": "markdown",
   "id": "4726d998",
   "metadata": {},
   "source": [
    "# Question 5: 5-Fold CV\n",
    "Use the KFold class from Scikit-Learn to evaluate our model on 5 different folds:\n",
    "\n",
    "KFold(n_splits=5, shuffle=True, random_state=1)\n",
    "Iterate over different folds of df_full_train\n",
    "Split the data into train and validation\n",
    "Train the model on train with these parameters: LogisticRegression(solver='liblinear', C=1.0, max_iter=1000)\n",
    "Use AUC to evaluate the model on validation\n",
    "How large is standard deviation of the scores across different folds?\n",
    "\n",
    "```\n",
    "0.0001\n",
    "0.006\n",
    "0.06\n",
    "0.36\n",
    "```\n",
    "\n",
    "Answer: 0.022 - closest from given list is 0.06\n"
   ]
  },
  {
   "cell_type": "code",
   "execution_count": 22,
   "id": "0f0026e9",
   "metadata": {},
   "outputs": [
    {
     "name": "stdout",
     "output_type": "stream",
     "text": [
      "Full training set shape: (1169, 8)\n",
      "Processing fold 1...\n",
      "Fold 1 AUC: 0.8067\n",
      "Processing fold 2...\n",
      "Fold 2 AUC: 0.8068\n",
      "Processing fold 3...\n",
      "Fold 3 AUC: 0.8648\n",
      "Processing fold 4...\n",
      "Fold 4 AUC: 0.8334\n",
      "Processing fold 5...\n",
      "Fold 5 AUC: 0.8154\n",
      "\n",
      "Cross-Validation Results:\n",
      "AUC scores: [0.80668039 0.80675018 0.86481935 0.83343809 0.81538462]\n",
      "Mean AUC: 0.8254\n",
      "Standard Deviation: 0.0220\n",
      "\n",
      "Answer: 0.022\n"
     ]
    }
   ],
   "source": [
    "from sklearn.model_selection import KFold\n",
    "from sklearn.feature_extraction import DictVectorizer\n",
    "from sklearn.linear_model import LogisticRegression\n",
    "from sklearn.metrics import roc_auc_score\n",
    "import numpy as np\n",
    "\n",
    "# Combine train and validation sets to create df_full_train\n",
    "# (excluding test set which we haven't used yet)\n",
    "X_full_train = pd.concat([X_train, X_val], axis=0)\n",
    "y_full_train = pd.concat([y_train, y_val], axis=0)\n",
    "\n",
    "print(f\"Full training set shape: {X_full_train.shape}\")\n",
    "\n",
    "# Initialize KFold with specified parameters\n",
    "kf = KFold(n_splits=5, shuffle=True, random_state=1)\n",
    "\n",
    "# Store AUC scores for each fold\n",
    "auc_scores = []\n",
    "\n",
    "# Iterate through each fold\n",
    "for fold, (train_idx, val_idx) in enumerate(kf.split(X_full_train)):\n",
    "    print(f\"Processing fold {fold + 1}...\")\n",
    "    \n",
    "    # Split data into train and validation for this fold\n",
    "    X_fold_train = X_full_train.iloc[train_idx]\n",
    "    X_fold_val = X_full_train.iloc[val_idx]\n",
    "    y_fold_train = y_full_train.iloc[train_idx]\n",
    "    y_fold_val = y_full_train.iloc[val_idx]\n",
    "    \n",
    "    # Convert to dictionaries for DictVectorizer\n",
    "    train_dicts = X_fold_train.to_dict(orient='records')\n",
    "    val_dicts = X_fold_val.to_dict(orient='records')\n",
    "    \n",
    "    # Apply one-hot encoding using DictVectorizer\n",
    "    dv = DictVectorizer(sparse=False)\n",
    "    X_fold_train_encoded = dv.fit_transform(train_dicts)\n",
    "    X_fold_val_encoded = dv.transform(val_dicts)\n",
    "    \n",
    "    # Train logistic regression model\n",
    "    model = LogisticRegression(solver='liblinear', C=1.0, max_iter=1000)\n",
    "    model.fit(X_fold_train_encoded, y_fold_train)\n",
    "    \n",
    "    # Get probability predictions for AUC calculation\n",
    "    y_fold_val_pred_proba = model.predict_proba(X_fold_val_encoded)[:, 1]\n",
    "    \n",
    "    # Calculate AUC for this fold\n",
    "    auc = roc_auc_score(y_fold_val, y_fold_val_pred_proba)\n",
    "    auc_scores.append(auc)\n",
    "    \n",
    "    print(f\"Fold {fold + 1} AUC: {auc:.4f}\")\n",
    "\n",
    "# Convert to numpy array for easier calculation\n",
    "auc_scores = np.array(auc_scores)\n",
    "\n",
    "# Calculate statistics\n",
    "mean_auc = np.mean(auc_scores)\n",
    "std_auc = np.std(auc_scores)\n",
    "\n",
    "print(f\"\\nCross-Validation Results:\")\n",
    "print(f\"AUC scores: {auc_scores}\")\n",
    "print(f\"Mean AUC: {mean_auc:.4f}\")\n",
    "print(f\"Standard Deviation: {std_auc:.4f}\")\n",
    "\n",
    "print(f\"\\nAnswer: {std_auc:.3f}\")"
   ]
  },
  {
   "cell_type": "markdown",
   "id": "8aa8ea37",
   "metadata": {},
   "source": [
    "# Question 6: Hyperparameter Tuning\n",
    "Now let's use 5-Fold cross-validation to find the best parameter C\n",
    "\n",
    "Iterate over the following C values: [0.000001, 0.001, 1]\n",
    "Initialize KFold with the same parameters as previously\n",
    "Use these parameters for the model: LogisticRegression(solver='liblinear', C=C, max_iter=1000)\n",
    "Compute the mean score as well as the std (round the mean and std to 3 decimal digits)\n",
    "Which C leads to the best mean score?\n",
    "```\n",
    "0.000001\n",
    "0.001\n",
    "1\n",
    "```\n",
    "If you have ties, select the score with the lowest std. If you still have ties, select the smallest C.\n",
    "\n",
    "\n",
    "Answer: "
   ]
  },
  {
   "cell_type": "code",
   "execution_count": 23,
   "id": "8de11d34",
   "metadata": {},
   "outputs": [
    {
     "name": "stdout",
     "output_type": "stream",
     "text": [
      "\n",
      "Testing C = 1e-06\n",
      "  Processing fold 1...\n",
      "    Fold 1 AUC: 0.5896\n",
      "  Processing fold 2...\n",
      "    Fold 2 AUC: 0.5160\n",
      "  Processing fold 3...\n",
      "    Fold 3 AUC: 0.5369\n",
      "  Processing fold 4...\n",
      "    Fold 4 AUC: 0.5308\n",
      "  Processing fold 5...\n",
      "    Fold 5 AUC: 0.5428\n",
      "  Mean AUC: 0.543\n",
      "  Std AUC: 0.025\n",
      "\n",
      "Testing C = 0.001\n",
      "  Processing fold 1...\n",
      "    Fold 1 AUC: 0.8607\n",
      "  Processing fold 2...\n",
      "    Fold 2 AUC: 0.8402\n",
      "  Processing fold 3...\n",
      "    Fold 3 AUC: 0.8838\n",
      "  Processing fold 4...\n",
      "    Fold 4 AUC: 0.8712\n",
      "  Processing fold 5...\n",
      "    Fold 5 AUC: 0.8656\n",
      "  Mean AUC: 0.864\n",
      "  Std AUC: 0.014\n",
      "\n",
      "Testing C = 1\n",
      "  Processing fold 1...\n",
      "    Fold 1 AUC: 0.8067\n",
      "  Processing fold 2...\n",
      "    Fold 2 AUC: 0.8068\n",
      "  Processing fold 3...\n",
      "    Fold 3 AUC: 0.8648\n",
      "  Processing fold 4...\n",
      "    Fold 4 AUC: 0.8334\n",
      "  Processing fold 5...\n",
      "    Fold 5 AUC: 0.8154\n",
      "  Mean AUC: 0.825\n",
      "  Std AUC: 0.022\n",
      "\n",
      "Summary of Results:\n",
      "C\t\tMean\tStd\n",
      "-------------------------\n",
      "1e-06\t\t0.543\t0.025\n",
      "0.001\t\t0.864\t0.014\n",
      "1\t\t0.825\t0.022\n",
      "\n",
      "Best C: 0.001 (highest mean score)\n",
      "\n",
      "Answer: 0.001\n"
     ]
    }
   ],
   "source": [
    "from sklearn.model_selection import KFold\n",
    "from sklearn.feature_extraction import DictVectorizer\n",
    "from sklearn.linear_model import LogisticRegression\n",
    "from sklearn.metrics import roc_auc_score\n",
    "import numpy as np\n",
    "\n",
    "# C values to test\n",
    "c_values = [0.000001, 0.001, 1]\n",
    "\n",
    "# Use the same full training set from Question 5\n",
    "X_full_train = pd.concat([X_train, X_val], axis=0)\n",
    "y_full_train = pd.concat([y_train, y_val], axis=0)\n",
    "\n",
    "# Initialize KFold with same parameters as previously\n",
    "kf = KFold(n_splits=5, shuffle=True, random_state=1)\n",
    "\n",
    "# Store results for each C value\n",
    "results = {}\n",
    "\n",
    "for C in c_values:\n",
    "    print(f\"\\nTesting C = {C}\")\n",
    "    \n",
    "    # Store AUC scores for each fold\n",
    "    auc_scores = []\n",
    "    \n",
    "    # Iterate through each fold\n",
    "    for fold, (train_idx, val_idx) in enumerate(kf.split(X_full_train)):\n",
    "        print(f\"  Processing fold {fold + 1}...\")\n",
    "        \n",
    "        # Split data into train and validation for this fold\n",
    "        X_fold_train = X_full_train.iloc[train_idx]\n",
    "        X_fold_val = X_full_train.iloc[val_idx]\n",
    "        y_fold_train = y_full_train.iloc[train_idx]\n",
    "        y_fold_val = y_full_train.iloc[val_idx]\n",
    "        \n",
    "        # Convert to dictionaries for DictVectorizer\n",
    "        train_dicts = X_fold_train.to_dict(orient='records')\n",
    "        val_dicts = X_fold_val.to_dict(orient='records')\n",
    "        \n",
    "        # Apply one-hot encoding using DictVectorizer\n",
    "        dv = DictVectorizer(sparse=False)\n",
    "        X_fold_train_encoded = dv.fit_transform(train_dicts)\n",
    "        X_fold_val_encoded = dv.transform(val_dicts)\n",
    "        \n",
    "        # Train logistic regression model with current C value\n",
    "        model = LogisticRegression(solver='liblinear', C=C, max_iter=1000)\n",
    "        model.fit(X_fold_train_encoded, y_fold_train)\n",
    "        \n",
    "        # Get probability predictions for AUC calculation\n",
    "        y_fold_val_pred_proba = model.predict_proba(X_fold_val_encoded)[:, 1]\n",
    "        \n",
    "        # Calculate AUC for this fold\n",
    "        auc = roc_auc_score(y_fold_val, y_fold_val_pred_proba)\n",
    "        auc_scores.append(auc)\n",
    "        \n",
    "        print(f\"    Fold {fold + 1} AUC: {auc:.4f}\")\n",
    "    \n",
    "    # Convert to numpy array for easier calculation\n",
    "    auc_scores = np.array(auc_scores)\n",
    "    \n",
    "    # Calculate statistics\n",
    "    mean_auc = np.mean(auc_scores)\n",
    "    std_auc = np.std(auc_scores)\n",
    "    \n",
    "    # Store results (rounded to 3 decimal digits)\n",
    "    results[C] = {\n",
    "        'mean': round(mean_auc, 3),\n",
    "        'std': round(std_auc, 3),\n",
    "        'scores': auc_scores\n",
    "    }\n",
    "    \n",
    "    print(f\"  Mean AUC: {results[C]['mean']}\")\n",
    "    print(f\"  Std AUC: {results[C]['std']}\")\n",
    "\n",
    "# Display all results\n",
    "print(f\"\\nSummary of Results:\")\n",
    "print(\"C\\t\\tMean\\tStd\")\n",
    "print(\"-\" * 25)\n",
    "for C in c_values:\n",
    "    print(f\"{C}\\t\\t{results[C]['mean']}\\t{results[C]['std']}\")\n",
    "\n",
    "# Find the best C according to the rules:\n",
    "# 1. Highest mean score\n",
    "# 2. If tied, lowest std\n",
    "# 3. If still tied, smallest C\n",
    "\n",
    "best_mean = max(results[C]['mean'] for C in c_values)\n",
    "candidates_with_best_mean = [C for C in c_values if results[C]['mean'] == best_mean]\n",
    "\n",
    "if len(candidates_with_best_mean) == 1:\n",
    "    best_C = candidates_with_best_mean[0]\n",
    "    print(f\"\\nBest C: {best_C} (highest mean score)\")\n",
    "else:\n",
    "    print(f\"\\nTie in mean score ({best_mean}), checking std...\")\n",
    "    best_std = min(results[C]['std'] for C in candidates_with_best_mean)\n",
    "    candidates_with_best_std = [C for C in candidates_with_best_mean if results[C]['std'] == best_std]\n",
    "    \n",
    "    if len(candidates_with_best_std) == 1:\n",
    "        best_C = candidates_with_best_std[0]\n",
    "        print(f\"Best C: {best_C} (lowest std among tied means)\")\n",
    "    else:\n",
    "        print(f\"Still tied in std ({best_std}), selecting smallest C...\")\n",
    "        best_C = min(candidates_with_best_std)\n",
    "        print(f\"Best C: {best_C} (smallest C among tied)\")\n",
    "\n",
    "print(f\"\\nAnswer: {best_C}\")"
   ]
  }
 ],
 "metadata": {
  "kernelspec": {
   "display_name": ".venv (3.13.5)",
   "language": "python",
   "name": "python3"
  },
  "language_info": {
   "codemirror_mode": {
    "name": "ipython",
    "version": 3
   },
   "file_extension": ".py",
   "mimetype": "text/x-python",
   "name": "python",
   "nbconvert_exporter": "python",
   "pygments_lexer": "ipython3",
   "version": "3.13.5"
  }
 },
 "nbformat": 4,
 "nbformat_minor": 5
}
